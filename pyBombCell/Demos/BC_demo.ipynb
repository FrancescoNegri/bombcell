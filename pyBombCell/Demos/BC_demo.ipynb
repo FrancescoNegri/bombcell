{
 "cells": [
  {
   "cell_type": "markdown",
   "metadata": {},
   "source": [
    "## Bombcell getting started script\n",
    "\n",
    "to do: \n",
    "- JF: add MATLAB changes (raw waveforms, spikeGLX meta, spike clusters, amplitude outliers)\n",
    "- what are the errors / warnings in the main function?\n",
    "- JF: generate output plots \n",
    "- how to load output, check and modify param, then re-generate + save \n",
    "- double check no hard-coding \n",
    "- double check all python names are copies of MATLAB with snake_case\n",
    "- check comments & formatting "
   ]
  },
  {
   "cell_type": "markdown",
   "metadata": {},
   "source": [
    "### Load in python packages "
   ]
  },
  {
   "cell_type": "code",
   "execution_count": 2,
   "metadata": {},
   "outputs": [],
   "source": [
    "import os\n",
    "import sys\n",
    "from pathlib import Path\n",
    "\n",
    "import numpy as np\n",
    "import pandas as pd\n",
    "import matplotlib.pyplot as plt\n",
    "\n",
    "# Add bombcell to Python path if NOT installed with pip\n",
    "demo_dir = Path(os.getcwd())\n",
    "pyBombCell_dir = demo_dir.parent\n",
    "sys.path.append(str(pyBombCell_dir))"
   ]
  },
  {
   "cell_type": "code",
   "execution_count": 3,
   "metadata": {},
   "outputs": [
    {
     "name": "stderr",
     "output_type": "stream",
     "text": [
      "/home/julie/.local/lib/python3.8/site-packages/tqdm/auto.py:21: TqdmWarning: IProgress not found. Please update jupyter and ipywidgets. See https://ipywidgets.readthedocs.io/en/stable/user_install.html\n",
      "  from .autonotebook import tqdm as notebook_tqdm\n",
      "/home/julie/.local/lib/python3.8/site-packages/scipy/__init__.py:146: UserWarning: A NumPy version >=1.16.5 and <1.23.0 is required for this version of SciPy (detected version 1.24.4\n",
      "  warnings.warn(f\"A NumPy version >={np_minversion} and <{np_maxversion}\"\n"
     ]
    }
   ],
   "source": [
    "%load_ext autoreload\n",
    "%autoreload 2\n",
    "\n",
    "import bombcell as bc"
   ]
  },
  {
   "cell_type": "markdown",
   "metadata": {},
   "source": [
    "### Define data paths"
   ]
  },
  {
   "cell_type": "markdown",
   "metadata": {},
   "source": [
    "By default: path to BombCell's toy dataset"
   ]
  },
  {
   "cell_type": "code",
   "execution_count": 4,
   "metadata": {},
   "outputs": [],
   "source": [
    "ks_dir = demo_dir / \"toy_data\"  # Replace with your kilosort directory\n",
    "raw_dir = (\n",
    "    None  # Leave 'None' if no raw data\n",
    ")\n",
    "save_path = \"~/Downloads/quality_metrics\"  # Replace with the directory in which you want to save bombcell's output\n",
    "\n",
    "# If a raw data directory with a meta folder is not given,\n",
    "# please input the gain manually\n",
    "gain_to_uV = np.nan"
   ]
  },
  {
   "cell_type": "markdown",
   "metadata": {},
   "source": [
    "### Get parameters"
   ]
  },
  {
   "cell_type": "code",
   "execution_count": null,
   "metadata": {},
   "outputs": [],
   "source": [
    "# ephys_raw_data and gain_to_uv will be None if no raw_dir given\n",
    "ephys_raw_data, meta_path, gain_to_uV = bc.manage_if_raw_data(raw_dir, gain_to_uV)\n",
    "\n",
    "param = bc.get_default_parameters(ks_dir, raw_dir=raw_dir, ephys_meta_dir=meta_path)\n",
    "param[\"compute_distance_metrics\"] = 1\n",
    "param[\"compute_drift\"] = 1\n",
    "param[\"compute_time_chunks\"] = 1;"
   ]
  },
  {
   "cell_type": "markdown",
   "metadata": {},
   "source": [
    "### Run bombcell, get unit types and save results \n",
    "To save results as a parquet either PyArrow or FastParquet needs to be installed"
   ]
  },
  {
   "cell_type": "code",
   "execution_count": 82,
   "metadata": {},
   "outputs": [
    {
     "name": "stderr",
     "output_type": "stream",
     "text": [
      "Computing bombcell quality metrics:   0%|          | 0/15 units/home/julie/.local/lib/python3.8/site-packages/scipy/optimize/minpack.py:833: OptimizeWarning: Covariance of the parameters could not be estimated\n",
      "  warnings.warn('Covariance of the parameters could not be estimated',\n",
      "/home/julie/.local/lib/python3.8/site-packages/scipy/optimize/minpack.py:833: OptimizeWarning: Covariance of the parameters could not be estimated\n",
      "  warnings.warn('Covariance of the parameters could not be estimated',\n",
      "/home/julie/.local/lib/python3.8/site-packages/scipy/optimize/minpack.py:833: OptimizeWarning: Covariance of the parameters could not be estimated\n",
      "  warnings.warn('Covariance of the parameters could not be estimated',\n",
      "/home/julie/.local/lib/python3.8/site-packages/scipy/optimize/minpack.py:833: OptimizeWarning: Covariance of the parameters could not be estimated\n",
      "  warnings.warn('Covariance of the parameters could not be estimated',\n",
      "/home/julie/.local/lib/python3.8/site-packages/scipy/optimize/minpack.py:833: OptimizeWarning: Covariance of the parameters could not be estimated\n",
      "  warnings.warn('Covariance of the parameters could not be estimated',\n",
      "/home/julie/.local/lib/python3.8/site-packages/scipy/optimize/minpack.py:833: OptimizeWarning: Covariance of the parameters could not be estimated\n",
      "  warnings.warn('Covariance of the parameters could not be estimated',\n",
      "/home/julie/.local/lib/python3.8/site-packages/scipy/optimize/minpack.py:833: OptimizeWarning: Covariance of the parameters could not be estimated\n",
      "  warnings.warn('Covariance of the parameters could not be estimated',\n",
      "/home/julie/.local/lib/python3.8/site-packages/scipy/optimize/minpack.py:833: OptimizeWarning: Covariance of the parameters could not be estimated\n",
      "  warnings.warn('Covariance of the parameters could not be estimated',\n",
      "/home/julie/.local/lib/python3.8/site-packages/scipy/optimize/minpack.py:833: OptimizeWarning: Covariance of the parameters could not be estimated\n",
      "  warnings.warn('Covariance of the parameters could not be estimated',\n",
      "/home/julie/.local/lib/python3.8/site-packages/scipy/optimize/minpack.py:833: OptimizeWarning: Covariance of the parameters could not be estimated\n",
      "  warnings.warn('Covariance of the parameters could not be estimated',\n",
      "/home/julie/.local/lib/python3.8/site-packages/scipy/optimize/minpack.py:833: OptimizeWarning: Covariance of the parameters could not be estimated\n",
      "  warnings.warn('Covariance of the parameters could not be estimated',\n",
      "Computing bombcell quality metrics:   7%|▋         | 1/15 units/home/julie/.local/lib/python3.8/site-packages/scipy/optimize/minpack.py:833: OptimizeWarning: Covariance of the parameters could not be estimated\n",
      "  warnings.warn('Covariance of the parameters could not be estimated',\n",
      "/home/julie/.local/lib/python3.8/site-packages/scipy/optimize/minpack.py:833: OptimizeWarning: Covariance of the parameters could not be estimated\n",
      "  warnings.warn('Covariance of the parameters could not be estimated',\n",
      "/home/julie/.local/lib/python3.8/site-packages/scipy/optimize/minpack.py:833: OptimizeWarning: Covariance of the parameters could not be estimated\n",
      "  warnings.warn('Covariance of the parameters could not be estimated',\n",
      "/home/julie/Dropbox/MATLAB/onPaths/PyBombcell/pyBombCell/bombcell/quality_metrics.py:884: RuntimeWarning: invalid value encountered in divide\n",
      "  spike_depth_in_channels = np.sum(\n",
      "Computing bombcell quality metrics:  13%|█▎        | 2/15 units/home/julie/.local/lib/python3.8/site-packages/scipy/optimize/minpack.py:833: OptimizeWarning: Covariance of the parameters could not be estimated\n",
      "  warnings.warn('Covariance of the parameters could not be estimated',\n",
      "/home/julie/.local/lib/python3.8/site-packages/scipy/optimize/minpack.py:833: OptimizeWarning: Covariance of the parameters could not be estimated\n",
      "  warnings.warn('Covariance of the parameters could not be estimated',\n",
      "Computing bombcell quality metrics:  20%|██        | 3/15 units/home/julie/.local/lib/python3.8/site-packages/scipy/optimize/minpack.py:833: OptimizeWarning: Covariance of the parameters could not be estimated\n",
      "  warnings.warn('Covariance of the parameters could not be estimated',\n",
      "Computing bombcell quality metrics:  27%|██▋       | 4/15 units/home/julie/.local/lib/python3.8/site-packages/numpy/lib/nanfunctions.py:1215: RuntimeWarning: Mean of empty slice\n",
      "  return np.nanmean(a, axis, out=out, keepdims=keepdims)\n",
      "Computing bombcell quality metrics:  40%|████      | 6/15 units/home/julie/Dropbox/MATLAB/onPaths/PyBombcell/pyBombCell/bombcell/quality_metrics.py:431: RuntimeWarning: divide by zero encountered in scalar divide\n",
      "  (surrogate_area - np.sum(spike_counts_per_amp_bin) * bin_step)\n",
      "Computing bombcell quality metrics:  60%|██████    | 9/15 units\n"
     ]
    },
    {
     "ename": "IndexError",
     "evalue": "cannot do a non-empty take from an empty axes.",
     "output_type": "error",
     "traceback": [
      "\u001b[0;31m---------------------------------------------------------------------------\u001b[0m",
      "\u001b[0;31mIndexError\u001b[0m                                Traceback (most recent call last)",
      "Cell \u001b[0;32mIn[82], line 6\u001b[0m\n\u001b[1;32m      1\u001b[0m (\n\u001b[1;32m      2\u001b[0m     quality_metrics,\n\u001b[1;32m      3\u001b[0m     param,\n\u001b[1;32m      4\u001b[0m     unit_type,\n\u001b[1;32m      5\u001b[0m     unit_type_string,\n\u001b[0;32m----> 6\u001b[0m ) \u001b[38;5;241m=\u001b[39m \u001b[43mbc\u001b[49m\u001b[38;5;241;43m.\u001b[39;49m\u001b[43mrun_bombcell\u001b[49m\u001b[43m(\u001b[49m\n\u001b[1;32m      7\u001b[0m \u001b[43m    \u001b[49m\u001b[43mks_dir\u001b[49m\u001b[43m,\u001b[49m\u001b[43m \u001b[49m\u001b[43mraw_dir\u001b[49m\u001b[43m,\u001b[49m\u001b[43m \u001b[49m\u001b[43msave_path\u001b[49m\u001b[43m,\u001b[49m\u001b[43m \u001b[49m\u001b[43mparam\u001b[49m\n\u001b[1;32m      8\u001b[0m \u001b[43m)\u001b[49m\n",
      "File \u001b[0;32m~/Dropbox/MATLAB/onPaths/PyBombcell/pyBombCell/bombcell/helper_functions.py:712\u001b[0m, in \u001b[0;36mrun_bombcell\u001b[0;34m(ks_dir, raw_dir, save_path, param)\u001b[0m\n\u001b[1;32m    709\u001b[0m quality_metrics[\u001b[38;5;124m\"\u001b[39m\u001b[38;5;124mpeak_channels\u001b[39m\u001b[38;5;124m\"\u001b[39m] \u001b[38;5;241m=\u001b[39m peak_channels\n\u001b[1;32m    711\u001b[0m \u001b[38;5;66;03m# Complete with remaining quality metrics\u001b[39;00m\n\u001b[0;32m--> 712\u001b[0m quality_metrics, times \u001b[38;5;241m=\u001b[39m \u001b[43mget_all_quality_metrics\u001b[49m\u001b[43m(\u001b[49m\n\u001b[1;32m    713\u001b[0m \u001b[43m    \u001b[49m\u001b[43munique_templates\u001b[49m\u001b[43m,\u001b[49m\n\u001b[1;32m    714\u001b[0m \u001b[43m    \u001b[49m\u001b[43mspike_times_seconds\u001b[49m\u001b[43m,\u001b[49m\n\u001b[1;32m    715\u001b[0m \u001b[43m    \u001b[49m\u001b[43mspike_clusters\u001b[49m\u001b[43m,\u001b[49m\n\u001b[1;32m    716\u001b[0m \u001b[43m    \u001b[49m\u001b[43mtemplate_amplitudes\u001b[49m\u001b[43m,\u001b[49m\n\u001b[1;32m    717\u001b[0m \u001b[43m    \u001b[49m\u001b[43mtime_chunks\u001b[49m\u001b[43m,\u001b[49m\n\u001b[1;32m    718\u001b[0m \u001b[43m    \u001b[49m\u001b[43mpc_features\u001b[49m\u001b[43m,\u001b[49m\n\u001b[1;32m    719\u001b[0m \u001b[43m    \u001b[49m\u001b[43mpc_features_idx\u001b[49m\u001b[43m,\u001b[49m\n\u001b[1;32m    720\u001b[0m \u001b[43m    \u001b[49m\u001b[43mquality_metrics\u001b[49m\u001b[43m,\u001b[49m\n\u001b[1;32m    721\u001b[0m \u001b[43m    \u001b[49m\u001b[43mraw_waveforms_full\u001b[49m\u001b[43m,\u001b[49m\n\u001b[1;32m    722\u001b[0m \u001b[43m    \u001b[49m\u001b[43mchannel_positions\u001b[49m\u001b[43m,\u001b[49m\n\u001b[1;32m    723\u001b[0m \u001b[43m    \u001b[49m\u001b[43mtemplate_waveforms\u001b[49m\u001b[43m,\u001b[49m\n\u001b[1;32m    724\u001b[0m \u001b[43m    \u001b[49m\u001b[43mparam\u001b[49m\u001b[43m,\u001b[49m\n\u001b[1;32m    725\u001b[0m \u001b[43m\u001b[49m\u001b[43m)\u001b[49m\n\u001b[1;32m    727\u001b[0m unit_type, unit_type_string \u001b[38;5;241m=\u001b[39m qm\u001b[38;5;241m.\u001b[39mget_quality_unit_type(\n\u001b[1;32m    728\u001b[0m     param, quality_metrics\n\u001b[1;32m    729\u001b[0m )  \u001b[38;5;66;03m# JF: this should be inside bc.get_all_quality_metrics\u001b[39;00m\n\u001b[1;32m    731\u001b[0m save_results(\n\u001b[1;32m    732\u001b[0m     quality_metrics,\n\u001b[1;32m    733\u001b[0m     unit_type_string,\n\u001b[0;32m   (...)\u001b[0m\n\u001b[1;32m    738\u001b[0m     save_path,\n\u001b[1;32m    739\u001b[0m )  \u001b[38;5;66;03m# JF: this should be inside bc.get_all_quality_metrics\u001b[39;00m\n",
      "File \u001b[0;32m~/Dropbox/MATLAB/onPaths/PyBombcell/pyBombCell/bombcell/helper_functions.py:458\u001b[0m, in \u001b[0;36mget_all_quality_metrics\u001b[0;34m(unique_templates, spike_times_seconds, spike_clusters, template_amplitudes, time_chunks, pc_features, pc_features_idx, quality_metrics, raw_waveforms_full, channel_positions, template_waveforms, param)\u001b[0m\n\u001b[1;32m    453\u001b[0m \u001b[38;5;66;03m# percentage spikes missing\u001b[39;00m\n\u001b[1;32m    454\u001b[0m time_tmp \u001b[38;5;241m=\u001b[39m time\u001b[38;5;241m.\u001b[39mtime()\n\u001b[1;32m    455\u001b[0m (\n\u001b[1;32m    456\u001b[0m     percent_missing_gaussian,\n\u001b[1;32m    457\u001b[0m     percent_missing_symmetric,\n\u001b[0;32m--> 458\u001b[0m ) \u001b[38;5;241m=\u001b[39m \u001b[43mqm\u001b[49m\u001b[38;5;241;43m.\u001b[39;49m\u001b[43mperc_spikes_missing\u001b[49m\u001b[43m(\u001b[49m\n\u001b[1;32m    459\u001b[0m \u001b[43m    \u001b[49m\u001b[43mthese_amplitudes\u001b[49m\u001b[43m,\u001b[49m\u001b[43m \u001b[49m\u001b[43mthese_spike_times\u001b[49m\u001b[43m,\u001b[49m\u001b[43m \u001b[49m\u001b[43mtime_chunks\u001b[49m\u001b[43m,\u001b[49m\u001b[43m \u001b[49m\u001b[43mparam\u001b[49m\n\u001b[1;32m    460\u001b[0m \u001b[43m\u001b[49m\u001b[43m)\u001b[49m\n\u001b[1;32m    461\u001b[0m times_spikes_missing_1[unit_idx] \u001b[38;5;241m=\u001b[39m time\u001b[38;5;241m.\u001b[39mtime() \u001b[38;5;241m-\u001b[39m time_tmp\n\u001b[1;32m    463\u001b[0m \u001b[38;5;66;03m# fraction contamination\u001b[39;00m\n",
      "File \u001b[0;32m~/Dropbox/MATLAB/onPaths/PyBombcell/pyBombCell/bombcell/quality_metrics.py:377\u001b[0m, in \u001b[0;36mperc_spikes_missing\u001b[0;34m(these_amplitudes, these_spike_times, time_chunks, param)\u001b[0m\n\u001b[1;32m    374\u001b[0m \u001b[38;5;66;03m# check for extreme outliers (see https://github.com/Julie-Fabre/bombcell/issues/179)\u001b[39;00m\n\u001b[1;32m    375\u001b[0m \u001b[38;5;66;03m# flagging for now but should we remove them entirely? have a separate function to this effect?\u001b[39;00m\n\u001b[1;32m    376\u001b[0m iqr_threshold \u001b[38;5;241m=\u001b[39m \u001b[38;5;241m10\u001b[39m\n\u001b[0;32m--> 377\u001b[0m quantiles \u001b[38;5;241m=\u001b[39m \u001b[43mnp\u001b[49m\u001b[38;5;241;43m.\u001b[39;49m\u001b[43mpercentile\u001b[49m\u001b[43m(\u001b[49m\u001b[43mthese_amplitudes_here\u001b[49m\u001b[43m,\u001b[49m\u001b[43m \u001b[49m\u001b[43m[\u001b[49m\u001b[38;5;241;43m1\u001b[39;49m\u001b[43m,\u001b[49m\u001b[43m \u001b[49m\u001b[38;5;241;43m99\u001b[39;49m\u001b[43m]\u001b[49m\u001b[43m)\u001b[49m\n\u001b[1;32m    378\u001b[0m iqr \u001b[38;5;241m=\u001b[39m quantiles[\u001b[38;5;241m1\u001b[39m] \u001b[38;5;241m-\u001b[39m quantiles[\u001b[38;5;241m0\u001b[39m]\n\u001b[1;32m    379\u001b[0m outliers_iqr \u001b[38;5;241m=\u001b[39m these_amplitudes_here \u001b[38;5;241m>\u001b[39m (quantiles[\u001b[38;5;241m1\u001b[39m] \u001b[38;5;241m+\u001b[39m iqr_threshold \u001b[38;5;241m*\u001b[39m iqr)\n",
      "File \u001b[0;32m<__array_function__ internals>:200\u001b[0m, in \u001b[0;36mpercentile\u001b[0;34m(*args, **kwargs)\u001b[0m\n",
      "File \u001b[0;32m~/.local/lib/python3.8/site-packages/numpy/lib/function_base.py:4205\u001b[0m, in \u001b[0;36mpercentile\u001b[0;34m(a, q, axis, out, overwrite_input, method, keepdims, interpolation)\u001b[0m\n\u001b[1;32m   4203\u001b[0m \u001b[38;5;28;01mif\u001b[39;00m \u001b[38;5;129;01mnot\u001b[39;00m _quantile_is_valid(q):\n\u001b[1;32m   4204\u001b[0m     \u001b[38;5;28;01mraise\u001b[39;00m \u001b[38;5;167;01mValueError\u001b[39;00m(\u001b[38;5;124m\"\u001b[39m\u001b[38;5;124mPercentiles must be in the range [0, 100]\u001b[39m\u001b[38;5;124m\"\u001b[39m)\n\u001b[0;32m-> 4205\u001b[0m \u001b[38;5;28;01mreturn\u001b[39;00m \u001b[43m_quantile_unchecked\u001b[49m\u001b[43m(\u001b[49m\n\u001b[1;32m   4206\u001b[0m \u001b[43m    \u001b[49m\u001b[43ma\u001b[49m\u001b[43m,\u001b[49m\u001b[43m \u001b[49m\u001b[43mq\u001b[49m\u001b[43m,\u001b[49m\u001b[43m \u001b[49m\u001b[43maxis\u001b[49m\u001b[43m,\u001b[49m\u001b[43m \u001b[49m\u001b[43mout\u001b[49m\u001b[43m,\u001b[49m\u001b[43m \u001b[49m\u001b[43moverwrite_input\u001b[49m\u001b[43m,\u001b[49m\u001b[43m \u001b[49m\u001b[43mmethod\u001b[49m\u001b[43m,\u001b[49m\u001b[43m \u001b[49m\u001b[43mkeepdims\u001b[49m\u001b[43m)\u001b[49m\n",
      "File \u001b[0;32m~/.local/lib/python3.8/site-packages/numpy/lib/function_base.py:4473\u001b[0m, in \u001b[0;36m_quantile_unchecked\u001b[0;34m(a, q, axis, out, overwrite_input, method, keepdims)\u001b[0m\n\u001b[1;32m   4465\u001b[0m \u001b[38;5;28;01mdef\u001b[39;00m \u001b[38;5;21m_quantile_unchecked\u001b[39m(a,\n\u001b[1;32m   4466\u001b[0m                         q,\n\u001b[1;32m   4467\u001b[0m                         axis\u001b[38;5;241m=\u001b[39m\u001b[38;5;28;01mNone\u001b[39;00m,\n\u001b[0;32m   (...)\u001b[0m\n\u001b[1;32m   4470\u001b[0m                         method\u001b[38;5;241m=\u001b[39m\u001b[38;5;124m\"\u001b[39m\u001b[38;5;124mlinear\u001b[39m\u001b[38;5;124m\"\u001b[39m,\n\u001b[1;32m   4471\u001b[0m                         keepdims\u001b[38;5;241m=\u001b[39m\u001b[38;5;28;01mFalse\u001b[39;00m):\n\u001b[1;32m   4472\u001b[0m     \u001b[38;5;124;03m\"\"\"Assumes that q is in [0, 1], and is an ndarray\"\"\"\u001b[39;00m\n\u001b[0;32m-> 4473\u001b[0m     \u001b[38;5;28;01mreturn\u001b[39;00m \u001b[43m_ureduce\u001b[49m\u001b[43m(\u001b[49m\u001b[43ma\u001b[49m\u001b[43m,\u001b[49m\n\u001b[1;32m   4474\u001b[0m \u001b[43m                    \u001b[49m\u001b[43mfunc\u001b[49m\u001b[38;5;241;43m=\u001b[39;49m\u001b[43m_quantile_ureduce_func\u001b[49m\u001b[43m,\u001b[49m\n\u001b[1;32m   4475\u001b[0m \u001b[43m                    \u001b[49m\u001b[43mq\u001b[49m\u001b[38;5;241;43m=\u001b[39;49m\u001b[43mq\u001b[49m\u001b[43m,\u001b[49m\n\u001b[1;32m   4476\u001b[0m \u001b[43m                    \u001b[49m\u001b[43mkeepdims\u001b[49m\u001b[38;5;241;43m=\u001b[39;49m\u001b[43mkeepdims\u001b[49m\u001b[43m,\u001b[49m\n\u001b[1;32m   4477\u001b[0m \u001b[43m                    \u001b[49m\u001b[43maxis\u001b[49m\u001b[38;5;241;43m=\u001b[39;49m\u001b[43maxis\u001b[49m\u001b[43m,\u001b[49m\n\u001b[1;32m   4478\u001b[0m \u001b[43m                    \u001b[49m\u001b[43mout\u001b[49m\u001b[38;5;241;43m=\u001b[39;49m\u001b[43mout\u001b[49m\u001b[43m,\u001b[49m\n\u001b[1;32m   4479\u001b[0m \u001b[43m                    \u001b[49m\u001b[43moverwrite_input\u001b[49m\u001b[38;5;241;43m=\u001b[39;49m\u001b[43moverwrite_input\u001b[49m\u001b[43m,\u001b[49m\n\u001b[1;32m   4480\u001b[0m \u001b[43m                    \u001b[49m\u001b[43mmethod\u001b[49m\u001b[38;5;241;43m=\u001b[39;49m\u001b[43mmethod\u001b[49m\u001b[43m)\u001b[49m\n",
      "File \u001b[0;32m~/.local/lib/python3.8/site-packages/numpy/lib/function_base.py:3752\u001b[0m, in \u001b[0;36m_ureduce\u001b[0;34m(a, func, keepdims, **kwargs)\u001b[0m\n\u001b[1;32m   3749\u001b[0m             index_out \u001b[38;5;241m=\u001b[39m (\u001b[38;5;241m0\u001b[39m, ) \u001b[38;5;241m*\u001b[39m nd\n\u001b[1;32m   3750\u001b[0m             kwargs[\u001b[38;5;124m'\u001b[39m\u001b[38;5;124mout\u001b[39m\u001b[38;5;124m'\u001b[39m] \u001b[38;5;241m=\u001b[39m out[(\u001b[38;5;28mEllipsis\u001b[39m, ) \u001b[38;5;241m+\u001b[39m index_out]\n\u001b[0;32m-> 3752\u001b[0m r \u001b[38;5;241m=\u001b[39m \u001b[43mfunc\u001b[49m\u001b[43m(\u001b[49m\u001b[43ma\u001b[49m\u001b[43m,\u001b[49m\u001b[43m \u001b[49m\u001b[38;5;241;43m*\u001b[39;49m\u001b[38;5;241;43m*\u001b[39;49m\u001b[43mkwargs\u001b[49m\u001b[43m)\u001b[49m\n\u001b[1;32m   3754\u001b[0m \u001b[38;5;28;01mif\u001b[39;00m out \u001b[38;5;129;01mis\u001b[39;00m \u001b[38;5;129;01mnot\u001b[39;00m \u001b[38;5;28;01mNone\u001b[39;00m:\n\u001b[1;32m   3755\u001b[0m     \u001b[38;5;28;01mreturn\u001b[39;00m out\n",
      "File \u001b[0;32m~/.local/lib/python3.8/site-packages/numpy/lib/function_base.py:4639\u001b[0m, in \u001b[0;36m_quantile_ureduce_func\u001b[0;34m(a, q, axis, out, overwrite_input, method)\u001b[0m\n\u001b[1;32m   4637\u001b[0m     \u001b[38;5;28;01melse\u001b[39;00m:\n\u001b[1;32m   4638\u001b[0m         arr \u001b[38;5;241m=\u001b[39m a\u001b[38;5;241m.\u001b[39mcopy()\n\u001b[0;32m-> 4639\u001b[0m result \u001b[38;5;241m=\u001b[39m \u001b[43m_quantile\u001b[49m\u001b[43m(\u001b[49m\u001b[43marr\u001b[49m\u001b[43m,\u001b[49m\n\u001b[1;32m   4640\u001b[0m \u001b[43m                   \u001b[49m\u001b[43mquantiles\u001b[49m\u001b[38;5;241;43m=\u001b[39;49m\u001b[43mq\u001b[49m\u001b[43m,\u001b[49m\n\u001b[1;32m   4641\u001b[0m \u001b[43m                   \u001b[49m\u001b[43maxis\u001b[49m\u001b[38;5;241;43m=\u001b[39;49m\u001b[43maxis\u001b[49m\u001b[43m,\u001b[49m\n\u001b[1;32m   4642\u001b[0m \u001b[43m                   \u001b[49m\u001b[43mmethod\u001b[49m\u001b[38;5;241;43m=\u001b[39;49m\u001b[43mmethod\u001b[49m\u001b[43m,\u001b[49m\n\u001b[1;32m   4643\u001b[0m \u001b[43m                   \u001b[49m\u001b[43mout\u001b[49m\u001b[38;5;241;43m=\u001b[39;49m\u001b[43mout\u001b[49m\u001b[43m)\u001b[49m\n\u001b[1;32m   4644\u001b[0m \u001b[38;5;28;01mreturn\u001b[39;00m result\n",
      "File \u001b[0;32m~/.local/lib/python3.8/site-packages/numpy/lib/function_base.py:4745\u001b[0m, in \u001b[0;36m_quantile\u001b[0;34m(arr, quantiles, axis, method, out)\u001b[0m\n\u001b[1;32m   4737\u001b[0m arr\u001b[38;5;241m.\u001b[39mpartition(\n\u001b[1;32m   4738\u001b[0m     np\u001b[38;5;241m.\u001b[39munique(np\u001b[38;5;241m.\u001b[39mconcatenate(([\u001b[38;5;241m0\u001b[39m, \u001b[38;5;241m-\u001b[39m\u001b[38;5;241m1\u001b[39m],\n\u001b[1;32m   4739\u001b[0m                               previous_indexes\u001b[38;5;241m.\u001b[39mravel(),\n\u001b[1;32m   4740\u001b[0m                               next_indexes\u001b[38;5;241m.\u001b[39mravel(),\n\u001b[1;32m   4741\u001b[0m                               ))),\n\u001b[1;32m   4742\u001b[0m     axis\u001b[38;5;241m=\u001b[39mDATA_AXIS)\n\u001b[1;32m   4743\u001b[0m \u001b[38;5;28;01mif\u001b[39;00m np\u001b[38;5;241m.\u001b[39missubdtype(arr\u001b[38;5;241m.\u001b[39mdtype, np\u001b[38;5;241m.\u001b[39minexact):\n\u001b[1;32m   4744\u001b[0m     slices_having_nans \u001b[38;5;241m=\u001b[39m np\u001b[38;5;241m.\u001b[39misnan(\n\u001b[0;32m-> 4745\u001b[0m         \u001b[43mtake\u001b[49m\u001b[43m(\u001b[49m\u001b[43marr\u001b[49m\u001b[43m,\u001b[49m\u001b[43m \u001b[49m\u001b[43mindices\u001b[49m\u001b[38;5;241;43m=\u001b[39;49m\u001b[38;5;241;43m-\u001b[39;49m\u001b[38;5;241;43m1\u001b[39;49m\u001b[43m,\u001b[49m\u001b[43m \u001b[49m\u001b[43maxis\u001b[49m\u001b[38;5;241;43m=\u001b[39;49m\u001b[43mDATA_AXIS\u001b[49m\u001b[43m)\u001b[49m\n\u001b[1;32m   4746\u001b[0m     )\n\u001b[1;32m   4747\u001b[0m \u001b[38;5;28;01melse\u001b[39;00m:\n\u001b[1;32m   4748\u001b[0m     slices_having_nans \u001b[38;5;241m=\u001b[39m \u001b[38;5;28;01mNone\u001b[39;00m\n",
      "File \u001b[0;32m<__array_function__ internals>:200\u001b[0m, in \u001b[0;36mtake\u001b[0;34m(*args, **kwargs)\u001b[0m\n",
      "File \u001b[0;32m~/.local/lib/python3.8/site-packages/numpy/core/fromnumeric.py:190\u001b[0m, in \u001b[0;36mtake\u001b[0;34m(a, indices, axis, out, mode)\u001b[0m\n\u001b[1;32m     93\u001b[0m \u001b[38;5;129m@array_function_dispatch\u001b[39m(_take_dispatcher)\n\u001b[1;32m     94\u001b[0m \u001b[38;5;28;01mdef\u001b[39;00m \u001b[38;5;21mtake\u001b[39m(a, indices, axis\u001b[38;5;241m=\u001b[39m\u001b[38;5;28;01mNone\u001b[39;00m, out\u001b[38;5;241m=\u001b[39m\u001b[38;5;28;01mNone\u001b[39;00m, mode\u001b[38;5;241m=\u001b[39m\u001b[38;5;124m'\u001b[39m\u001b[38;5;124mraise\u001b[39m\u001b[38;5;124m'\u001b[39m):\n\u001b[1;32m     95\u001b[0m     \u001b[38;5;124;03m\"\"\"\u001b[39;00m\n\u001b[1;32m     96\u001b[0m \u001b[38;5;124;03m    Take elements from an array along an axis.\u001b[39;00m\n\u001b[1;32m     97\u001b[0m \n\u001b[0;32m   (...)\u001b[0m\n\u001b[1;32m    188\u001b[0m \u001b[38;5;124;03m           [5, 7]])\u001b[39;00m\n\u001b[1;32m    189\u001b[0m \u001b[38;5;124;03m    \"\"\"\u001b[39;00m\n\u001b[0;32m--> 190\u001b[0m     \u001b[38;5;28;01mreturn\u001b[39;00m \u001b[43m_wrapfunc\u001b[49m\u001b[43m(\u001b[49m\u001b[43ma\u001b[49m\u001b[43m,\u001b[49m\u001b[43m \u001b[49m\u001b[38;5;124;43m'\u001b[39;49m\u001b[38;5;124;43mtake\u001b[39;49m\u001b[38;5;124;43m'\u001b[39;49m\u001b[43m,\u001b[49m\u001b[43m \u001b[49m\u001b[43mindices\u001b[49m\u001b[43m,\u001b[49m\u001b[43m \u001b[49m\u001b[43maxis\u001b[49m\u001b[38;5;241;43m=\u001b[39;49m\u001b[43maxis\u001b[49m\u001b[43m,\u001b[49m\u001b[43m \u001b[49m\u001b[43mout\u001b[49m\u001b[38;5;241;43m=\u001b[39;49m\u001b[43mout\u001b[49m\u001b[43m,\u001b[49m\u001b[43m \u001b[49m\u001b[43mmode\u001b[49m\u001b[38;5;241;43m=\u001b[39;49m\u001b[43mmode\u001b[49m\u001b[43m)\u001b[49m\n",
      "File \u001b[0;32m~/.local/lib/python3.8/site-packages/numpy/core/fromnumeric.py:57\u001b[0m, in \u001b[0;36m_wrapfunc\u001b[0;34m(obj, method, *args, **kwds)\u001b[0m\n\u001b[1;32m     54\u001b[0m     \u001b[38;5;28;01mreturn\u001b[39;00m _wrapit(obj, method, \u001b[38;5;241m*\u001b[39margs, \u001b[38;5;241m*\u001b[39m\u001b[38;5;241m*\u001b[39mkwds)\n\u001b[1;32m     56\u001b[0m \u001b[38;5;28;01mtry\u001b[39;00m:\n\u001b[0;32m---> 57\u001b[0m     \u001b[38;5;28;01mreturn\u001b[39;00m \u001b[43mbound\u001b[49m\u001b[43m(\u001b[49m\u001b[38;5;241;43m*\u001b[39;49m\u001b[43margs\u001b[49m\u001b[43m,\u001b[49m\u001b[43m \u001b[49m\u001b[38;5;241;43m*\u001b[39;49m\u001b[38;5;241;43m*\u001b[39;49m\u001b[43mkwds\u001b[49m\u001b[43m)\u001b[49m\n\u001b[1;32m     58\u001b[0m \u001b[38;5;28;01mexcept\u001b[39;00m \u001b[38;5;167;01mTypeError\u001b[39;00m:\n\u001b[1;32m     59\u001b[0m     \u001b[38;5;66;03m# A TypeError occurs if the object does have such a method in its\u001b[39;00m\n\u001b[1;32m     60\u001b[0m     \u001b[38;5;66;03m# class, but its signature is not identical to that of NumPy's. This\u001b[39;00m\n\u001b[0;32m   (...)\u001b[0m\n\u001b[1;32m     64\u001b[0m     \u001b[38;5;66;03m# Call _wrapit from within the except clause to ensure a potential\u001b[39;00m\n\u001b[1;32m     65\u001b[0m     \u001b[38;5;66;03m# exception has a traceback chain.\u001b[39;00m\n\u001b[1;32m     66\u001b[0m     \u001b[38;5;28;01mreturn\u001b[39;00m _wrapit(obj, method, \u001b[38;5;241m*\u001b[39margs, \u001b[38;5;241m*\u001b[39m\u001b[38;5;241m*\u001b[39mkwds)\n",
      "\u001b[0;31mIndexError\u001b[0m: cannot do a non-empty take from an empty axes."
     ]
    }
   ],
   "source": [
    "(\n",
    "    quality_metrics,\n",
    "    param,\n",
    "    unit_type,\n",
    "    unit_type_string,\n",
    ") = bc.run_bombcell(\n",
    "    ks_dir, raw_dir, save_path, param\n",
    ")"
   ]
  },
  {
   "cell_type": "markdown",
   "metadata": {},
   "source": [
    "(optional) look at a table which shows why each unit fails"
   ]
  },
  {
   "cell_type": "code",
   "execution_count": null,
   "metadata": {},
   "outputs": [
    {
     "data": {
      "text/plain": [
       "{'phy_cluster_id': array([ 0.,  1.,  2.,  3.,  4.,  5.,  6.,  7.,  8.,  9., 10., 11., 12.,\n",
       "        13., 14.]),\n",
       " 'cluster_id': array([ 0.,  1.,  2.,  3.,  4.,  5.,  6.,  7.,  8.,  9., 10., 11., 12.,\n",
       "        13., 14.]),\n",
       " 'use_these_times_start': array([3.25366667e-01, 3.25366667e-01, 2.16032537e+03, 2.88032537e+03,\n",
       "        3.25366667e-01, 2.52032537e+03, 7.20325367e+02, 1.80032537e+03,\n",
       "        7.20325367e+02, 3.60325367e+02, 1.08032537e+03, 3.25366667e-01,\n",
       "        2.16032537e+03, 3.25366667e-01, 1.08032537e+03]),\n",
       " 'use_these_times_stop': array([1800.32536667, 4320.32536667, 3960.32536667, 3600.32536667,\n",
       "        1440.32536667, 3960.32536667, 3960.32536667, 2880.32536667,\n",
       "        2520.32536667,  720.32536667, 2520.32536667, 3960.32536667,\n",
       "        3240.32536667, 3960.32536667, 3240.32536667]),\n",
       " 'RPV_use_tauR_est': array([0., 0., 0., 0., 0., 0., 0., 0., 0., 0., 0., 0., 0., 0., 0.]),\n",
       " 'percent_missing_gaussian': array([41.29685164,  1.        ,  1.        ,  1.        ,  6.7279165 ,\n",
       "        98.50014978,  0.47436796,  1.        ,  4.17886046,  1.        ,\n",
       "         0.18821485,  0.09993185,  1.        , 26.78766516,  7.0156972 ]),\n",
       " 'percent_missing_symmetric': array([25.01597736, 31.33998429, 28.71072589,  0.        ,  0.        ,\n",
       "        43.84615385,  4.86185863, 35.71428571, 30.18867925,  0.        ,\n",
       "         0.        ,  0.        , 31.45973154, 35.62005277, 19.14212548]),\n",
       " 'fraction_RPVs': array([1.        , 1.        , 0.40054474, 0.        , 1.        ,\n",
       "        0.        , 0.03129885, 0.        , 1.        , 0.        ,\n",
       "        0.        , 0.        , 0.48404272, 0.        , 0.3129107 ]),\n",
       " 'max_drift_estimate': array([24.92123888, 42.41044376, 16.29887334, 36.48786579, 30.03977586,\n",
       "        30.12158133, 20.71606657, 35.13012072, 42.03919609, 12.17112523,\n",
       "        28.22432665, 39.47638862, 10.44356612, 42.93495131, 29.66952403]),\n",
       " 'cumulatve_drift_estimate': array([ 85.08698846, 368.42087489, 144.95438925, 129.30883636,\n",
       "         90.8149531 , 157.72820344,  65.95173968, 101.65326395,\n",
       "        266.34646016,  22.67790003,  46.54357357, 331.63014982,\n",
       "         44.84559729, 296.87352668, 172.74737979]),\n",
       " 'n_spikes': array([8.2130e+03, 2.3606e+04, 1.3160e+03, 9.4000e+01, 1.1110e+03,\n",
       "        1.4600e+02, 1.0606e+04, 2.7000e+01, 1.4800e+02, 1.0000e+01,\n",
       "        8.6000e+01, 1.3300e+03, 1.6340e+03, 7.3200e+02, 2.5260e+03]),\n",
       " 'presence_ratio': array([0.86206897, 1.        , 0.96551724, 0.90909091, 0.7826087 ,\n",
       "        0.95652174, 0.9245283 , 0.52941176, 0.89655172, 0.66666667,\n",
       "        0.69565217, 0.69230769, 1.        , 0.98461538, 0.88571429]),\n",
       " 'n_peaks': array([1., 1., 1., 1., 2., 1., 1., 1., 1., 1., 2., 2., 1., 1., 1.]),\n",
       " 'n_troughs': array([1., 2., 1., 1., 1., 1., 1., 1., 1., 1., 1., 1., 1., 1., 1.]),\n",
       " 'is_somatic': array([1., 0., 1., 1., 1., 1., 1., 1., 1., 1., 0., 0., 1., 1., 1.]),\n",
       " 'waveform_duration_peak_trough': array([600.        , 400.        , 733.33333333, 300.        ,\n",
       "        600.        , 666.66666667, 266.66666667, 600.        ,\n",
       "        600.        , 633.33333333, 233.33333333, 700.        ,\n",
       "        300.        , 533.33333333, 633.33333333]),\n",
       " 'waveform_baseline': array([0.02137234, 1.        , 0.04806085, 0.01462503, 0.05727664,\n",
       "        0.04492632, 0.026933  , 0.01937422, 0.04522535, 0.02947707,\n",
       "        0.00941298, 0.01633927, 0.07773504, 0.01744298, 0.00781764]),\n",
       " 'linear_decay': array([-0.01281583, -0.00098302, -0.01051073, -0.01007094, -0.00926222,\n",
       "        -0.01445276, -0.01563846, -0.00738091, -0.01166257, -0.01306737,\n",
       "        -0.01002118, -0.01418271, -0.00596329, -0.01423316, -0.01464648]),\n",
       " 'exp_decay': array([-0.04931537, -0.00085652, -0.02179776, -0.04382024, -0.01815936,\n",
       "        -0.02845173, -0.02085857, -0.01192187, -0.01590508, -0.02166823,\n",
       "        -0.01237842, -0.0200849 , -0.01275497, -0.02687907, -0.0296425 ]),\n",
       " 'trough': array([1.52320063, 0.73326421, 1.17508638, 1.81903875, 1.2105943 ,\n",
       "        1.59021866, 1.21830523, 1.36948466, 1.13774037, 1.01024306,\n",
       "        0.94633526, 1.38902271, 1.31027424, 1.20228076, 1.58643186]),\n",
       " 'main_peak_before': array([ 0.13500147,  0.00103352,  0.05647564, -0.00902238,  0.31144258,\n",
       "         0.07144268,  0.02553247,  0.02653269,  0.05145471,  0.02977901,\n",
       "         0.20443012,  0.87295866, -0.05726654, -0.06238432,  0.01240215]),\n",
       " 'main_peak_after': array([0.47594377, 0.71891648, 0.50749898, 0.42709512, 0.36882487,\n",
       "        0.47284386, 0.59971768, 0.3946501 , 0.34522092, 0.29530957,\n",
       "        0.1634459 , 0.18067254, 0.64808822, 0.33155629, 0.59094989]),\n",
       " 'width_before': array([2.83235974, 0.        , 0.94864518, 1.66979865, 3.3456207 ,\n",
       "        1.07392159, 1.43937506, 1.42415905, 1.59315152, 1.05808391,\n",
       "        2.91899761, 2.19265671, 1.02083123, 1.06468142, 0.        ]),\n",
       " 'trough_width': array([7.31888968, 8.09234894, 8.87560158, 4.0994615 , 8.82280564,\n",
       "        6.19182878, 4.13666306, 4.13943204, 5.89532749, 5.69812832,\n",
       "        2.91782409, 4.09399308, 6.52303007, 4.75492481, 6.44328959]),\n",
       " 'raw_amplitude': array([nan, nan, nan, nan, nan, nan, nan, nan, nan, nan, nan, nan, nan,\n",
       "        nan, nan]),\n",
       " 'isolation_dist': array([24.34409155, 12.679971  , 16.69738908,  5.91565555,  9.48607576,\n",
       "        26.00237698, 63.38658022,  5.39342697, 12.05230785,  3.32499623,\n",
       "        52.31487408, 45.91747011, 12.63742219,  8.1834745 , 28.13589515]),\n",
       " 'l_ratio': array([9.27695595e-02, 8.53659543e-01, 5.57700970e-01, 2.12855257e+01,\n",
       "        3.35915835e+00, 6.69015847e-02, 8.79362233e-05, 7.39285306e+01,\n",
       "        6.57155795e+00, 1.94286917e+02, 8.88684582e-06, 1.31554270e-04,\n",
       "        1.01214761e+00, 1.45080813e+01, 4.60264673e-02]),\n",
       " 'silhouette_score': array([nan, nan, nan, nan, nan, nan, nan, nan, nan, nan, nan, nan, nan,\n",
       "        nan, nan]),\n",
       " 'signal_to_noise_ratio': array([nan, nan, nan, nan, nan, nan, nan, nan, nan, nan, nan, nan, nan,\n",
       "        nan, nan]),\n",
       " 'max_channels': array([ 0,  0,  2,  2,  4,  6,  6,  5,  9, 11, 12, 14, 12, 16, 17]),\n",
       " 'is_somatic_new': array([1., 0., 1., 1., 1., 1., 1., 1., 1., 1., 0., 0., 1., 1., 1.])}"
      ]
     },
     "execution_count": 18,
     "metadata": {},
     "output_type": "execute_result"
    }
   ],
   "source": [
    "qm_table = bc.make_qm_table(\n",
    "    quality_metrics, param, unique_templates, unit_type_string\n",
    ")  # JF: does not include distance, drift metrics, amplitude, ... ? \n",
    "   #  also replace \"somatic\" with the 2 quality metrics for that.\n",
    "   #  + use more sensible table headers (e.g. \"Peaks\" should be \"n_Peaks\", \"Good unit\" should be \"unit_type\")\n",
    "qm_table\n",
    "\n"
   ]
  },
  {
   "cell_type": "code",
   "execution_count": null,
   "metadata": {},
   "outputs": [],
   "source": []
  }
 ],
 "metadata": {
  "kernelspec": {
   "display_name": "Python 3",
   "language": "python",
   "name": "python3"
  },
  "language_info": {
   "codemirror_mode": {
    "name": "ipython",
    "version": 3
   },
   "file_extension": ".py",
   "mimetype": "text/x-python",
   "name": "python",
   "nbconvert_exporter": "python",
   "pygments_lexer": "ipython3",
   "version": "3.8.10"
  }
 },
 "nbformat": 4,
 "nbformat_minor": 2
}
