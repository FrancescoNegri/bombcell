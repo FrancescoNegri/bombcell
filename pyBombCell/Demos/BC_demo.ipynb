{
 "cells": [
  {
   "cell_type": "markdown",
   "metadata": {},
   "source": [
    "# Imports"
   ]
  },
  {
   "cell_type": "code",
   "execution_count": 4,
   "metadata": {},
   "outputs": [],
   "source": [
    "import os\n",
    "import sys\n",
    "from pathlib import Path\n",
    "\n",
    "import numpy as np\n",
    "import pandas as pd\n",
    "import matplotlib.pyplot as plt\n",
    "\n",
    "import warnings\n",
    "warnings.filterwarnings('ignore')\n",
    "\n",
    "#Add bombcell to Python path if NOT installed with pip\n",
    "demo_dir = Path(os.getcwd())\n",
    "pyBombCell_dir = demo_dir.parent\n",
    "sys.path.append(str(pyBombCell_dir))"
   ]
  },
  {
   "cell_type": "code",
   "execution_count": 3,
   "metadata": {},
   "outputs": [],
   "source": [
    "%load_ext autoreload \n",
    "%autoreload 2\n",
    "\n",
    "import bombcell as bc"
   ]
  },
  {
   "cell_type": "markdown",
   "metadata": {},
   "source": [
    "# Define data paths"
   ]
  },
  {
   "cell_type": "markdown",
   "metadata": {},
   "source": [
    "By default: path to BombCell's toy dataset"
   ]
  },
  {
   "cell_type": "code",
   "execution_count": 5,
   "metadata": {},
   "outputs": [],
   "source": [
    "ks_dir = demo_dir / 'toy_data'  # Replace with your kilosort directory\n",
    "raw_dir = None  # Leave 'None' if no raw data; eventually replace with path to your raw data\n",
    "save_path = \"~/Downloads/bombcell_plots\"  # ~ is home directory, / work on Windows\n",
    "\n",
    "# If a raw data directory with a meta folder is not given,\n",
    "# please input the gain manually\n",
    "gain_to_uV = np.nan"
   ]
  },
  {
   "cell_type": "code",
   "execution_count": null,
   "metadata": {},
   "outputs": [],
   "source": [
    "#ephys_raw_data and gain_to_uv will be None if no raw_dir given\n",
    "ephys_raw_data, meta_path, gain_to_uV = bc.manage_if_raw_data(raw_dir)\n",
    "\n",
    "param = bc.get_default_parameters(ks_dir, raw_dir = raw_dir, ephys_meta_dir = meta_path)\n",
    "\n",
    "\n",
    "(quality_metrics, \n",
    "param, unique_templates, \n",
    "raw_waveforms_full, \n",
    "raw_waveforms_peak_channel,\n",
    "unit_type, \n",
    "unit_type_string) = \\\n",
    "    bc.run_bombcell(ks_dir, \n",
    "                    raw_dir, \n",
    "                    save_path, \n",
    "                    gain_to_uV,\n",
    "                    param)"
   ]
  },
  {
   "cell_type": "markdown",
   "metadata": {},
   "source": [
    "(optional) look at a table which shows why each unit fails"
   ]
  },
  {
   "cell_type": "code",
   "execution_count": null,
   "metadata": {},
   "outputs": [],
   "source": [
    "qm_table = bc.make_qm_table(quality_metrics, param, unique_templates, unit_type_string)\n",
    "qm_table"
   ]
  },
  {
   "cell_type": "markdown",
   "metadata": {},
   "source": [
    "To save results as a parquet either PyArrow or FastParquet needs to be installed"
   ]
  }
 ],
 "metadata": {
  "kernelspec": {
   "display_name": "Python 3",
   "language": "python",
   "name": "python3"
  },
  "language_info": {
   "codemirror_mode": {
    "name": "ipython",
    "version": 3
   },
   "file_extension": ".py",
   "mimetype": "text/x-python",
   "name": "python",
   "nbconvert_exporter": "python",
   "pygments_lexer": "ipython3",
   "version": "3.8.10"
  }
 },
 "nbformat": 4,
 "nbformat_minor": 2
}
