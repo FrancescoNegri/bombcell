{
 "cells": [
  {
   "cell_type": "markdown",
   "metadata": {},
   "source": [
    "# Imports"
   ]
  },
  {
   "cell_type": "code",
   "execution_count": 19,
   "metadata": {},
   "outputs": [],
   "source": [
    "import os\n",
    "import sys\n",
    "from pathlib import Path\n",
    "\n",
    "import numpy as np\n",
    "import pandas as pd\n",
    "import matplotlib.pyplot as plt\n",
    "\n",
    "import warnings\n",
    "warnings.filterwarnings('ignore')"
   ]
  },
  {
   "cell_type": "code",
   "execution_count": 2,
   "metadata": {},
   "outputs": [],
   "source": [
    "#Add bombcell to Python path if not installed with pip\n",
    "demo_dir = Path(os.getcwd())\n",
    "pyBombCell_dir = demo_dir.parent\n",
    "sys.path.append(str(pyBombCell_dir))"
   ]
  },
  {
   "cell_type": "code",
   "execution_count": 3,
   "metadata": {},
   "outputs": [],
   "source": [
    "%load_ext autoreload\n",
    "%autoreload 2\n",
    "\n",
    "import bombcell as bc"
   ]
  },
  {
   "cell_type": "markdown",
   "metadata": {},
   "source": [
    "# Define data paths"
   ]
  },
  {
   "cell_type": "markdown",
   "metadata": {},
   "source": [
    "By default: path to BombCell's toy dataset"
   ]
  },
  {
   "cell_type": "code",
   "execution_count": 4,
   "metadata": {},
   "outputs": [],
   "source": [
    "ks_dir = demo_dir / 'toy_data'  # Replace with your kilosort directory\n",
    "raw_dir = None  # Leave 'None' if no raw data; eventually replace with path to your raw data\n",
    "save_path = \"~/Downloads/bombcell_plots\"  # ~ is home directory, / work on Windows\n",
    "\n",
    "# If a raw data directory with a meta folder is not given,\n",
    "# please input the gain manually\n",
    "gain_to_uV = np.nan"
   ]
  },
  {
   "cell_type": "code",
   "execution_count": 5,
   "metadata": {},
   "outputs": [],
   "source": [
    "spike_times_samples, spike_templates, template_waveforms, template_amplitudes, \\\n",
    "           pc_features, pc_features_idx, channel_positions, good_channels = bc.load_ephys_data(ks_dir)\n",
    "\n",
    "if raw_dir != None:\n",
    "    ephys_raw_data, meta_path = bc.manage_data_compression(raw_dir, decompressed_data_local = raw_dir)\n",
    "    gain_to_uV = bc.get_gain_spikeglx(meta_path)\n",
    "else:\n",
    "    meta_path = None"
   ]
  },
  {
   "cell_type": "code",
   "execution_count": 6,
   "metadata": {},
   "outputs": [],
   "source": [
    "param = bc.default_parameters(ks_dir, raw_dir, ephys_meta_dir = meta_path)"
   ]
  },
  {
   "cell_type": "code",
   "execution_count": 12,
   "metadata": {},
   "outputs": [],
   "source": [
    "# Extract or load in raw waveforms\n",
    "if raw_dir != None:\n",
    "    raw_waveforms_full, raw_waveforms_peak_channel, SNR = bc.extract_raw_waveforms(\n",
    "                        param,\n",
    "                        spike_templates.squeeze(),\n",
    "                        spike_times_samples.squeeze(),\n",
    "                        param['re_extract_raw'],\n",
    "                        save_path\n",
    "                        )\n",
    "else:\n",
    "    raw_waveforms_full = None\n",
    "    raw_waveforms_peak_channel = None\n",
    "    SNR = None"
   ]
  },
  {
   "cell_type": "code",
   "execution_count": 14,
   "metadata": {},
   "outputs": [],
   "source": [
    "# pre-load peak channels\n",
    "max_channels = bc.get_waveform_max_channel(template_waveforms)\n",
    "\n",
    "# Remove duplicate spikes\n",
    "(non_empty_units,\n",
    " duplicate_spike_idx,\n",
    " spike_times_samples,\n",
    " spike_templates,\n",
    " template_amplitudes,\n",
    " pc_features,\n",
    " raw_waveforms_full,\n",
    " raw_waveforms_peak_channel,\n",
    " signal_to_noise_ratio,\n",
    " max_channels) = \\\n",
    "    bc.remove_duplicate_spikes(spike_times_samples,\n",
    "                               spike_templates,\n",
    "                               template_amplitudes,\n",
    "                               max_channels,\n",
    "                               save_path,\n",
    "                               param,\n",
    "                               pc_features = pc_features,\n",
    "                               raw_waveforms_full = raw_waveforms_full,\n",
    "                               raw_waveforms_peak_channel = raw_waveforms_peak_channel, \n",
    "                               signal_to_noise_ratio = SNR)\n",
    "\n",
    "\n",
    "# Divide recording into time chunks\n",
    "spike_times_seconds = spike_times_samples / param['ephys_sample_rate']\n",
    "if param['compute_time_chunks']:\n",
    "    time_chunks = np.arange(np.min(spike_times_seconds), np.max(spike_times_seconds), param['delta_time_chunk'])\n",
    "else:\n",
    "    time_chunks = np.array((np.min(spike_times_seconds), np.max(spike_times_seconds)))\n",
    "\n",
    "# Should be got as part of removing duplicate spikes!!! \n",
    "unique_templates = np.unique(spike_templates) "
   ]
  },
  {
   "cell_type": "code",
   "execution_count": 23,
   "metadata": {},
   "outputs": [
    {
     "name": "stderr",
     "output_type": "stream",
     "text": [
      "Computing BombCell quality metrics: 100%|██████████| 15/15 units\n"
     ]
    }
   ],
   "source": [
    "# Initialize quality metrics dictionnary\n",
    "n_units = unique_templates.size\n",
    "quality_metrics = bc.create_quality_metrics_dict(n_units, snr = SNR)\n",
    "quality_metrics['max_channels'] = max_channels\n",
    "param['use_hill_method'] = True # use the old method for RPVs\n",
    "param['compute_time_chunks'] = False\n",
    "\n",
    "# Complete with remaining quality metrics\n",
    "quality_metrics, times = bc.get_all_quality_metrics(unique_templates,\n",
    "                                                    spike_times_seconds,\n",
    "                                                    spike_templates,\n",
    "                                                    template_amplitudes,\n",
    "                                                    time_chunks,\n",
    "                                                    pc_features,\n",
    "                                                    pc_features_idx,\n",
    "                                                    quality_metrics,\n",
    "                                                    raw_waveforms_full,\n",
    "                                                    channel_positions,\n",
    "                                                    template_waveforms, param)"
   ]
  },
  {
   "cell_type": "code",
   "execution_count": 24,
   "metadata": {},
   "outputs": [],
   "source": [
    "# classify noise\n",
    "nan_result = np.isnan(quality_metrics['n_peaks'])\n",
    "\n",
    "too_many_peaks = quality_metrics['n_peaks']  > param['max_n_peaks']\n",
    "\n",
    "too_many_troughs = quality_metrics['n_troughs'] > param['max_n_troughs']\n",
    "\n",
    "too_short_waveform = quality_metrics['waveform_duration_peak_trough'] < param['min_wave_duration']\n",
    "\n",
    "too_long_waveform = quality_metrics['waveform_duration_peak_trough'] > param['max_wave_duration']\n",
    "\n",
    "too_noisy_baseline = quality_metrics['waveform_baseline'] > param['max_wave_baseline_fraction']\n",
    "\n",
    "##\n",
    "too_shallow_decay =quality_metrics['exp_decay'] > param['min_spatial_decay_slope']\n",
    "to_steap_decay = quality_metrics['exp_decay'] < param['max_spatial_decay_slope']\n",
    "# classify as mua\n",
    "#ALL or ANY?\n",
    "\n",
    "too_few_total_spikes = quality_metrics['n_spikes'] < param['min_num_spikes_total']\n",
    "\n",
    "too_many_spikes_missing = quality_metrics['percent_missing_gaussian'] > param['max_perc_spikes_missing']\n",
    "\n",
    "too_low_presence_ratio = quality_metrics['presence_ratio'] < param['min_presence_ratio']\n",
    "\n",
    "too_many_RPVs = quality_metrics['fraction_RPVs']> param['max_RPV']\n",
    "\n",
    "if param['extract_raw_waveforms'] and raw_waveforms_full is not None:\n",
    "    too_small_amplitude = quality_metrics['raw_amplitude'] < param['min_amplitude'] \n",
    "\n",
    "    too_small_SNR =  quality_metrics['signal_to_noise_ratio'] < param['min_SNR'] \n",
    "\n",
    "if param['compute_drift']:\n",
    "    too_large_drift = quality_metrics['max_drift_estimate'] > param['max_drift']\n",
    "\n",
    "# determine if ALL unit is somatic or non-somatic\n",
    "param['non_somatic_trough_peak_ratio'] = 1.25\n",
    "param['non_somatic_peak_before_to_after_ratio'] = 1.2\n",
    "#somatic == 0, non_somatic == 1\n",
    "is_somatic = np.ones(unique_templates.size)\n",
    "\n",
    "is_somatic[(quality_metrics['trough'] / np.max((quality_metrics['main_peak_before'] , quality_metrics['main_peak_after']), axis = 0)) < param['non_somatic_trough_peak_ratio']] = 0\n",
    "\n",
    "is_somatic[(quality_metrics['main_peak_before'] / quality_metrics['main_peak_after'])  > param['non_somatic_peak_before_to_after_ratio']] = 0\n",
    "\n",
    "is_somatic[(quality_metrics['main_peak_before'] * param['first_peak_ratio'] > quality_metrics['main_peak_after']) & (quality_metrics['width_before'] < param['min_width_first_peak']) \\\n",
    "    & (quality_metrics['main_peak_before'] * param['min_main_peak_to_trough_ratio'] > quality_metrics['trough']) & (quality_metrics['trough_width'] < param['min_width_main_trough'])] = 0\n",
    "\n",
    "\n",
    "#is_somatic[np.isnan(quality_metrics['trough'])] = 0\n",
    "quality_metrics['is_somatic_new'] = is_somatic\n",
    "\n",
    "not_somatic = is_somatic == 1"
   ]
  },
  {
   "cell_type": "code",
   "execution_count": null,
   "metadata": {},
   "outputs": [
    {
     "data": {
      "text/plain": [
       "['show_detail_plots',\n",
       " 'show_summary_plots',\n",
       " 'verbose',\n",
       " 're_extract_raw',\n",
       " 'save_as_tsv',\n",
       " 'unit_type_for_phy',\n",
       " 'ephys_kilosort_path',\n",
       " 'save_mat_file',\n",
       " 'remove_duplicate_spike',\n",
       " 'duplicate_spikes_window_s',\n",
       " 'save_spike_without_duplicates',\n",
       " 'recompute_duplicate_spike',\n",
       " 'detrend_waveform',\n",
       " 'n_raw_spikes_to_extract',\n",
       " 'save_multiple_raw',\n",
       " 'decompress_data',\n",
       " 'extract_raw_waveforms',\n",
       " 'probe_type',\n",
       " 'tauR_values_min',\n",
       " 'tauR_values_max',\n",
       " 'tauR_values_steps',\n",
       " 'tauC',\n",
       " 'compute_time_chunks',\n",
       " 'delta_time_chunk',\n",
       " 'presence_ratio_bin_size',\n",
       " 'drift_bin_size',\n",
       " 'compute_drift',\n",
       " 'min_thresh_detect_peaks_troughs',\n",
       " 'first_peak_ratio',\n",
       " 'normalize_spatial_decay',\n",
       " 'min_width_first_peak',\n",
       " 'min_main_peak_to_trough_ratio',\n",
       " 'min_width_main_trough',\n",
       " 'ephys_sample_rate',\n",
       " 'n_channels',\n",
       " 'n_sync_channels',\n",
       " 'compute_distance_metrics',\n",
       " 'n_channels_iso_dist',\n",
       " 'split_good_and_mua_non_somatic',\n",
       " 'max_n_peaks',\n",
       " 'max_n_troughs',\n",
       " 'keep_only_somatic',\n",
       " 'min_wave_duration',\n",
       " 'max_wave_duration',\n",
       " 'min_spatial_decay_slope',\n",
       " 'max_spatial_decay_slope',\n",
       " 'max_wave_baseline_fraction',\n",
       " 'non_somatic_trough_peak_ratio',\n",
       " 'non_somatic_peak_before_to_after_ratio',\n",
       " 'iso_d_min',\n",
       " 'lratio_max',\n",
       " 'ss_min',\n",
       " 'min_amplitude',\n",
       " 'max_RPV',\n",
       " 'max_perc_spikes_missing',\n",
       " 'min_num_spikes_total',\n",
       " 'max_drift',\n",
       " 'min_presence_ratio',\n",
       " 'min_SNR',\n",
       " 'ephys_meta_file',\n",
       " 'gain_to_uV',\n",
       " 'spike_width',\n",
       " 'waveform_baseline_noise_window',\n",
       " 'waveform_baseline_window_start',\n",
       " 'waveform_baseline_window_stop',\n",
       " 'use_hill_method']"
      ]
     },
     "execution_count": 34,
     "metadata": {},
     "output_type": "execute_result"
    }
   ],
   "source": [
    "param['min_main_peak_to_trough_ratio']\n",
    "quality_metrics['trough']"
   ]
  },
  {
   "cell_type": "code",
   "execution_count": 37,
   "metadata": {},
   "outputs": [
    {
     "ename": "KeyError",
     "evalue": "'main_trough_size'",
     "output_type": "error",
     "traceback": [
      "\u001b[0;31m---------------------------------------------------------------------------\u001b[0m",
      "\u001b[0;31mKeyError\u001b[0m                                  Traceback (most recent call last)",
      "Cell \u001b[0;32mIn[37], line 1\u001b[0m\n\u001b[0;32m----> 1\u001b[0m unit_type, unit_type_string \u001b[38;5;241m=\u001b[39m \u001b[43mbc\u001b[49m\u001b[38;5;241;43m.\u001b[39;49m\u001b[43mget_quality_unit_type\u001b[49m\u001b[43m(\u001b[49m\u001b[43mparam\u001b[49m\u001b[43m,\u001b[49m\u001b[43m \u001b[49m\u001b[43mquality_metrics\u001b[49m\u001b[43m)\u001b[49m\n",
      "File \u001b[0;32m~/Dropbox/Science/PhD/bombcell/pyBombCell/bombcell/quality_metrics.py:1216\u001b[0m, in \u001b[0;36mget_quality_unit_type\u001b[0;34m(param, quality_metrics)\u001b[0m\n\u001b[1;32m   1211\u001b[0m is_non_somatic[(quality_metrics[\u001b[38;5;124m'\u001b[39m\u001b[38;5;124mtrough\u001b[39m\u001b[38;5;124m'\u001b[39m] \u001b[38;5;241m/\u001b[39m np\u001b[38;5;241m.\u001b[39mmax((quality_metrics[\u001b[38;5;124m'\u001b[39m\u001b[38;5;124mmain_peak_before\u001b[39m\u001b[38;5;124m'\u001b[39m] , quality_metrics[\u001b[38;5;124m'\u001b[39m\u001b[38;5;124mmain_peak_after\u001b[39m\u001b[38;5;124m'\u001b[39m]), axis \u001b[38;5;241m=\u001b[39m \u001b[38;5;241m0\u001b[39m)) \u001b[38;5;241m<\u001b[39m param[\u001b[38;5;124m'\u001b[39m\u001b[38;5;124mmin_main_peak_to_trough_ratio\u001b[39m\u001b[38;5;124m'\u001b[39m]] \u001b[38;5;241m=\u001b[39m \u001b[38;5;241m1\u001b[39m \n\u001b[1;32m   1213\u001b[0m is_non_somatic[(quality_metrics[\u001b[38;5;124m'\u001b[39m\u001b[38;5;124mmain_peak_before\u001b[39m\u001b[38;5;124m'\u001b[39m] \u001b[38;5;241m/\u001b[39m quality_metrics[\u001b[38;5;124m'\u001b[39m\u001b[38;5;124mmain_peak_after\u001b[39m\u001b[38;5;124m'\u001b[39m])  \u001b[38;5;241m>\u001b[39m param[\u001b[38;5;124m'\u001b[39m\u001b[38;5;124mfirst_peak_ratio\u001b[39m\u001b[38;5;124m'\u001b[39m]] \u001b[38;5;241m=\u001b[39m \u001b[38;5;241m1\u001b[39m\n\u001b[1;32m   1215\u001b[0m is_non_somatic[(quality_metrics[\u001b[38;5;124m'\u001b[39m\u001b[38;5;124mmain_peak_before\u001b[39m\u001b[38;5;124m'\u001b[39m] \u001b[38;5;241m*\u001b[39m param[\u001b[38;5;124m'\u001b[39m\u001b[38;5;124mfirst_peak_ratio\u001b[39m\u001b[38;5;124m'\u001b[39m] \u001b[38;5;241m>\u001b[39m quality_metrics[\u001b[38;5;124m'\u001b[39m\u001b[38;5;124mmain_peak_after\u001b[39m\u001b[38;5;124m'\u001b[39m]) \u001b[38;5;241m&\u001b[39m (quality_metrics[\u001b[38;5;124m'\u001b[39m\u001b[38;5;124mwidth_before\u001b[39m\u001b[38;5;124m'\u001b[39m] \u001b[38;5;241m<\u001b[39m param[\u001b[38;5;124m'\u001b[39m\u001b[38;5;124mmin_width_first_peak\u001b[39m\u001b[38;5;124m'\u001b[39m]) \\\n\u001b[0;32m-> 1216\u001b[0m     \u001b[38;5;241m&\u001b[39m (quality_metrics[\u001b[38;5;124m'\u001b[39m\u001b[38;5;124mmain_peak_before\u001b[39m\u001b[38;5;124m'\u001b[39m] \u001b[38;5;241m*\u001b[39m param[\u001b[38;5;124m'\u001b[39m\u001b[38;5;124mmin_main_peak_to_trough_ratio\u001b[39m\u001b[38;5;124m'\u001b[39m] \u001b[38;5;241m>\u001b[39m \u001b[43mquality_metrics\u001b[49m\u001b[43m[\u001b[49m\u001b[38;5;124;43m'\u001b[39;49m\u001b[38;5;124;43mmain_trough_size\u001b[39;49m\u001b[38;5;124;43m'\u001b[39;49m\u001b[43m]\u001b[49m) \u001b[38;5;241m&\u001b[39m (quality_metrics[\u001b[38;5;124m'\u001b[39m\u001b[38;5;124mtrough_width\u001b[39m\u001b[38;5;124m'\u001b[39m] \u001b[38;5;241m<\u001b[39m param[\u001b[38;5;124m'\u001b[39m\u001b[38;5;124mmin_width_main_trough\u001b[39m\u001b[38;5;124m'\u001b[39m])] \u001b[38;5;241m=\u001b[39m \u001b[38;5;241m1\u001b[39m\n\u001b[1;32m   1218\u001b[0m \u001b[38;5;66;03m#Test all quality metrics\u001b[39;00m\n\u001b[1;32m   1219\u001b[0m \u001b[38;5;66;03m## categorise units\u001b[39;00m\n\u001b[1;32m   1220\u001b[0m \u001b[38;5;66;03m# unit_type == 0 all noise units\u001b[39;00m\n\u001b[0;32m   (...)\u001b[0m\n\u001b[1;32m   1223\u001b[0m \u001b[38;5;66;03m# unit_type == 3 all non-somatic units (if split somatic units its good non-somatic units)\u001b[39;00m\n\u001b[1;32m   1224\u001b[0m \u001b[38;5;66;03m# unit_type == 4 (if split somatic units its mua non-somatic units)\u001b[39;00m\n\u001b[1;32m   1226\u001b[0m unit_type \u001b[38;5;241m=\u001b[39m np\u001b[38;5;241m.\u001b[39mfull(quality_metrics[\u001b[38;5;124m'\u001b[39m\u001b[38;5;124mn_peaks\u001b[39m\u001b[38;5;124m'\u001b[39m]\u001b[38;5;241m.\u001b[39mshape[\u001b[38;5;241m0\u001b[39m], np\u001b[38;5;241m.\u001b[39mnan)\n",
      "\u001b[0;31mKeyError\u001b[0m: 'main_trough_size'"
     ]
    }
   ],
   "source": [
    "unit_type, unit_type_string = bc.get_quality_unit_type(param, quality_metrics)"
   ]
  },
  {
   "cell_type": "code",
   "execution_count": 26,
   "metadata": {},
   "outputs": [
    {
     "ename": "NameError",
     "evalue": "name 'unit_type' is not defined",
     "output_type": "error",
     "traceback": [
      "\u001b[0;31m---------------------------------------------------------------------------\u001b[0m",
      "\u001b[0;31mNameError\u001b[0m                                 Traceback (most recent call last)",
      "Cell \u001b[0;32mIn[26], line 4\u001b[0m\n\u001b[1;32m      1\u001b[0m qm_table_array \u001b[38;5;241m=\u001b[39m np\u001b[38;5;241m.\u001b[39marray((nan_result, too_many_peaks, too_many_troughs, too_short_waveform, too_long_waveform, too_noisy_baseline, too_shallow_decay, \\\n\u001b[1;32m      2\u001b[0m                            too_few_total_spikes, too_many_spikes_missing, too_many_RPVs, too_low_presence_ratio, not_somatic))\n\u001b[0;32m----> 4\u001b[0m qm_table_array \u001b[38;5;241m=\u001b[39m np\u001b[38;5;241m.\u001b[39mvstack((qm_table_array, \u001b[43munit_type\u001b[49m))\n\u001b[1;32m      5\u001b[0m qm_table_array \u001b[38;5;241m=\u001b[39m np\u001b[38;5;241m.\u001b[39mvstack((unique_templates, qm_table_array))\n\u001b[1;32m      6\u001b[0m \u001b[38;5;66;03m#DO this for the optional params\u001b[39;00m\n",
      "\u001b[0;31mNameError\u001b[0m: name 'unit_type' is not defined"
     ]
    }
   ],
   "source": [
    "qm_table_array = np.array((nan_result, too_many_peaks, too_many_troughs, too_short_waveform, too_long_waveform, too_noisy_baseline, too_shallow_decay, \\\n",
    "                           too_few_total_spikes, too_many_spikes_missing, too_many_RPVs, too_low_presence_ratio, not_somatic))\n",
    "\n",
    "qm_table_array = np.vstack((qm_table_array, unit_type))\n",
    "qm_table_array = np.vstack((unique_templates, qm_table_array))\n",
    "#DO this for the optional params\n",
    "qm_table = pd.DataFrame(qm_table_array, index = ['Original ID', 'NaN result', 'Peaks', 'Troughs', 'Waveform Min Length', 'Waveform Max Length', 'Baseline', 'Spatial Decay', \\\n",
    "                                                 'Min Spikes', 'Missing Spikes', 'RPVs', 'Presence Ratio', 'Not Somatic', 'Good Unit']).T\n"
   ]
  },
  {
   "cell_type": "code",
   "execution_count": null,
   "metadata": {},
   "outputs": [],
   "source": [
    "bc.save_results(quality_metrics, unit_type_string, unique_templates, param, raw_waveforms_full, raw_waveforms_peak_channel, save_path)"
   ]
  }
 ],
 "metadata": {
  "kernelspec": {
   "display_name": "bombcell",
   "language": "python",
   "name": "python3"
  },
  "language_info": {
   "codemirror_mode": {
    "name": "ipython",
    "version": 3
   },
   "file_extension": ".py",
   "mimetype": "text/x-python",
   "name": "python",
   "nbconvert_exporter": "python",
   "pygments_lexer": "ipython3",
   "version": "3.11.0"
  }
 },
 "nbformat": 4,
 "nbformat_minor": 2
}
