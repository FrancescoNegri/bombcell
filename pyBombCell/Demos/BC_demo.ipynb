{
 "cells": [
  {
   "cell_type": "code",
   "execution_count": null,
   "metadata": {},
   "outputs": [],
   "source": [
    "%load_ext autoreload\n",
    "%autoreload 2\n",
    "\n",
    "\n",
    "import os \n",
    "import numpy as np\n",
    "import pandas as pd\n",
    "#Hack if downloading file and not pip install\n",
    "current_dir = os.getcwd()\n",
    "BombCell_dir = os.path.abspath(os.path.join(current_dir, os.pardir))\n",
    "os.chdir(BombCell_dir)\n",
    "import bombcell.extract_raw_waveforms as erw\n",
    "import bombcell.load_ephys_data as led\n",
    "import bombcell.default_parameters as params\n",
    "import matplotlib.pyplot as plt\n",
    "import bombcell.quality_metrics as qm\n",
    "import time\n",
    "import bombcell.helper_functions as hf\n",
    "from pathlib import Path\n",
    "import bombcell.save_utils as su"
   ]
  },
  {
   "cell_type": "code",
   "execution_count": 43,
   "metadata": {},
   "outputs": [],
   "source": [
    "ks_dir = r'c:\\Users\\Experiment\\Data\\BC_dev_data\\JF093_2023-03-06_site1\\kilosort2\\site1'\n",
    "raw_dir = r'c:\\Users\\Experiment\\Data\\BC_dev_data\\JF093_2023-03-06_site1\\site1'\n",
    "save_path = r'c:\\Users\\Experiment\\Data\\BC_dev_data\\JF093_2023-03-06_site1\\Python results'\n",
    "\n",
    "#If a raw data directory with a meta folder is not given,\n",
    "#please input the gain manually\n",
    "gain_to_uV = np.nan "
   ]
  },
  {
   "cell_type": "code",
   "execution_count": null,
   "metadata": {},
   "outputs": [],
   "source": [
    "spike_times_samples, spike_templates, template_waveforms, template_amplitudes, \\\n",
    "           pc_features, pc_features_idx, channel_positions, good_channels = led.load_ephys_data(ks_dir)\n",
    "\n",
    "pc_features = pc_features.squeeze()\n",
    "if raw_dir != None:\n",
    "    ephys_raw_data, meta_path = erw.manage_data_compression(raw_dir, decompressed_data_local = raw_dir)\n",
    "    gain_to_uV = led.get_gain_spikeglx(meta_path)"
   ]
  },
  {
   "cell_type": "code",
   "execution_count": 45,
   "metadata": {},
   "outputs": [],
   "source": [
    "param = params.default_parameters(ks_dir, ephys_raw_data, ephys_meta_dir = meta_path)"
   ]
  },
  {
   "cell_type": "code",
   "execution_count": null,
   "metadata": {},
   "outputs": [],
   "source": [
    "max_channels = qm.get_waveform_max_channel(template_waveforms)\n",
    "\n",
    "quality_metrics = {}\n",
    "GUI_data = {}\n",
    "quality_metrics['max_channels'] = max_channels\n",
    "\n",
    "#re extract or load in raw waveforms\n",
    "raw_waveforms_full, raw_waveforms_peak_channel, SNR = erw.extract_raw_waveforms(\n",
    "                    param, spike_templates.squeeze(), spike_times_samples.squeeze(), param['re_extract_raw'], save_path)"
   ]
  },
  {
   "cell_type": "code",
   "execution_count": 7,
   "metadata": {},
   "outputs": [],
   "source": [
    "non_empty_units, duplicate_spike_idx, spike_times_samples, spike_templates, template_amplitudes, \\\n",
    "pc_features, raw_waveforms_full, raw_waveforms_peak_channel, signal_to_noise_ratio, max_channels= \\\n",
    "    qm.remove_duplicate_spikes(spike_times_samples, spike_templates, template_amplitudes, max_channels, save_path, param,\n",
    "            pc_features = pc_features, raw_waveforms_full = raw_waveforms_full, raw_waveforms_peak_channel = raw_waveforms_peak_channel, \n",
    "            signal_to_noise_ratio = SNR)\n",
    "\n",
    "pc_features = pc_features.squeeze()\n",
    "# time chunks\n",
    "spike_times_seconds = spike_times_samples / param['ephys_sample_rate']\n",
    "if param['compute_time_chunks']:\n",
    "    time_chunks = np.arange(np.min(spike_times_seconds), np.max(spike_times_seconds), param['delta_time_chunk'])\n",
    "else:\n",
    "    time_chunks = np.array((np.min(spike_times_seconds), np.max(spike_times_seconds)))\n",
    "\n",
    "#should be got as part of removing duplicate spikes!!! \n",
    "unique_templates = np.unique(spike_templates) "
   ]
  },
  {
   "cell_type": "code",
   "execution_count": null,
   "metadata": {},
   "outputs": [],
   "source": [
    "\n",
    "n_units = unique_templates.size\n",
    "quality_metrics = hf.create_quality_metrics_dict(n_units, snr = SNR)\n",
    "quality_metrics['max_channels'] = max_channels\n",
    "param['use_hill_method'] = True # use the old method for RPVs\n",
    "param['compute_time_chunks'] = False\n",
    "\n",
    "quality_metrics, times = hf.get_all_quality_metrics(unique_templates, spike_times_seconds, spike_templates, template_amplitudes, time_chunks,\n",
    "                            pc_features, pc_features_idx, quality_metrics, raw_waveforms_full, channel_positions, template_waveforms, param)\n",
    "\n"
   ]
  },
  {
   "cell_type": "code",
   "execution_count": 9,
   "metadata": {},
   "outputs": [],
   "source": [
    "# classify noise\n",
    "nan_result = np.isnan(quality_metrics['n_peaks'])\n",
    "\n",
    "too_many_peaks = quality_metrics['n_peaks']  > param['max_n_peaks']\n",
    "\n",
    "too_many_troughs = quality_metrics['n_troughs'] > param['max_n_troughs']\n",
    "\n",
    "too_short_waveform = quality_metrics['waveform_duration_peak_trough'] < param['min_wave_duration']\n",
    "\n",
    "too_long_waveform = quality_metrics['waveform_duration_peak_trough'] > param['max_wave_duration']\n",
    "\n",
    "too_noisy_baseline = quality_metrics['waveform_baseline'] > param['max_wave_baseline_fraction']\n",
    "\n",
    "##\n",
    "too_shallow_decay =quality_metrics['exp_decay'] > param['min_spatial_decay_slope']\n",
    "to_steap_decay = quality_metrics['exp_decay'] < param['max_spatial_decay_slope']\n",
    "# classify as mua\n",
    "#ALL or ANY?\n",
    "\n",
    "too_few_total_spikes = quality_metrics['n_spikes'] < param['min_num_spikes_total']\n",
    "\n",
    "too_many_spikes_missing = quality_metrics['percent_missing_gaussian'] > param['max_perc_spikes_missing']\n",
    "\n",
    "too_low_presence_ratio = quality_metrics['presence_ratio'] < param['min_presence_ratio']\n",
    "\n",
    "too_many_RPVs = quality_metrics['fraction_RPVs']> param['max_RPV']\n",
    "\n",
    "if param['extract_raw_waveforms']:\n",
    "    too_small_amplitude = quality_metrics['raw_amplitude'] < param['min_amplitude'] \n",
    "\n",
    "    too_small_SNR =  quality_metrics['signal_to_noise_ratio'] < param['min_SNR'] \n",
    "\n",
    "if param['compute_drift']:\n",
    "    too_large_drift = quality_metrics['max_drift_estimate'] > param['max_drift']\n",
    "\n",
    "# determine if ALL unit is somatic or non-somatic\n",
    "param['non_somatic_trough_peak_ratio'] = 1.25\n",
    "param['non_somatic_peak_before_to_after_ratio'] = 1.2\n",
    "#somatic == 0, non_somatic == 1\n",
    "is_somatic = np.ones(unique_templates.size)\n",
    "\n",
    "is_somatic[(quality_metrics['trough'] / np.max((quality_metrics['main_peak_before'] , quality_metrics['main_peak_after']), axis = 0)) < param['non_somatic_trough_peak_ratio']] = 0\n",
    "\n",
    "is_somatic[(quality_metrics['main_peak_before'] / quality_metrics['main_peak_after'])  > param['non_somatic_peak_before_to_after_ratio']] = 0\n",
    "\n",
    "is_somatic[(quality_metrics['main_peak_before'] * param['first_peak_ratio'] > quality_metrics['main_peak_after']) & (quality_metrics['width_before'] < param['min_width_first_peak']) \\\n",
    "    & (quality_metrics['main_peak_before'] * param['min_main_peak_to_trough_ratio'] > quality_metrics['trough']) & (quality_metrics['trough_width'] < param['min_width_main_trough'])] = 0\n",
    "\n",
    "\n",
    "#is_somatic[np.isnan(quality_metrics['trough'])] = 0\n",
    "quality_metrics['is_somatic_new'] = is_somatic\n",
    "\n",
    "not_somatic = is_somatic == 1"
   ]
  },
  {
   "cell_type": "code",
   "execution_count": 10,
   "metadata": {},
   "outputs": [],
   "source": [
    "unit_type, unit_type_string = hf.get_quality_unit_type(param, quality_metrics)"
   ]
  },
  {
   "cell_type": "code",
   "execution_count": 11,
   "metadata": {},
   "outputs": [],
   "source": [
    "qm_table_array = np.array((nan_result, too_many_peaks, too_many_troughs, too_short_waveform, too_long_waveform, too_noisy_baseline, too_shallow_decay, \\\n",
    "                           too_few_total_spikes, too_many_spikes_missing, too_many_RPVs, too_low_presence_ratio, not_somatic))\n",
    "\n",
    "qm_table_array = np.vstack((qm_table_array, unit_type))\n",
    "qm_table_array = np.vstack((unique_templates, qm_table_array))\n",
    "#DO this for the optional params\n",
    "qm_table = pd.DataFrame(qm_table_array, index = ['Original ID', 'NaN result', 'Peaks', 'Troughs', 'Waveform Min Length', 'Waveform Max Length', 'Baseline', 'Spatial Decay', \\\n",
    "                                                 'Min Spikes', 'Missing Spikes', 'RPVs', 'Presence Ratio', 'Not Somatic', 'Good Unit']).T\n"
   ]
  },
  {
   "cell_type": "code",
   "execution_count": null,
   "metadata": {},
   "outputs": [],
   "source": [
    "qm_table"
   ]
  },
  {
   "cell_type": "code",
   "execution_count": 40,
   "metadata": {},
   "outputs": [],
   "source": [
    "su.save_results(quality_metrics, unit_type_string, unique_templates, param, raw_waveforms_full, raw_waveforms_peak_channel, save_path)"
   ]
  }
 ],
 "metadata": {
  "kernelspec": {
   "display_name": "Python 3",
   "language": "python",
   "name": "python3"
  },
  "language_info": {
   "codemirror_mode": {
    "name": "ipython",
    "version": 3
   },
   "file_extension": ".py",
   "mimetype": "text/x-python",
   "name": "python",
   "nbconvert_exporter": "python",
   "pygments_lexer": "ipython3",
   "version": "3.11.4"
  }
 },
 "nbformat": 4,
 "nbformat_minor": 2
}
