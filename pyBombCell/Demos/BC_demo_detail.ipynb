{
 "cells": [
  {
   "cell_type": "markdown",
   "metadata": {},
   "source": [
    "# Imports"
   ]
  },
  {
   "cell_type": "code",
   "execution_count": 1,
   "metadata": {},
   "outputs": [],
   "source": [
    "import os\n",
    "import sys\n",
    "from pathlib import Path\n",
    "\n",
    "import numpy as np\n",
    "import pandas as pd\n",
    "import matplotlib.pyplot as plt\n",
    "\n",
    "# import warnings\n",
    "# warnings.filterwarnings('ignore')"
   ]
  },
  {
   "cell_type": "code",
   "execution_count": 2,
   "metadata": {},
   "outputs": [],
   "source": [
    "#Add bombcell to Python path if not installed with pip\n",
    "demo_dir = Path(os.getcwd())\n",
    "pyBombCell_dir = demo_dir.parent\n",
    "sys.path.append(str(pyBombCell_dir))"
   ]
  },
  {
   "cell_type": "code",
   "execution_count": 3,
   "metadata": {},
   "outputs": [],
   "source": [
    "%load_ext autoreload\n",
    "%autoreload 2\n",
    "\n",
    "import bombcell as bc"
   ]
  },
  {
   "cell_type": "markdown",
   "metadata": {},
   "source": [
    "# Define data paths"
   ]
  },
  {
   "cell_type": "markdown",
   "metadata": {},
   "source": [
    "By default: path to BombCell's toy dataset"
   ]
  },
  {
   "cell_type": "code",
   "execution_count": 4,
   "metadata": {},
   "outputs": [],
   "source": [
    "ks_dir = demo_dir / 'toy_data'  # Replace with your kilosort directory\n",
    "raw_dir = None  # Leave 'None' if no raw data; eventually replace with path to your raw data\n",
    "save_path = \"~/Downloads/bombcell_plots\"  # ~ is home directory, / work on Windows\n",
    "\n",
    "# If a raw data directory with a meta folder is not given,\n",
    "# please input the gain manually\n",
    "gain_to_uV = np.nan"
   ]
  },
  {
   "cell_type": "code",
   "execution_count": 5,
   "metadata": {},
   "outputs": [],
   "source": [
    "spike_times_samples, spike_templates, template_waveforms, template_amplitudes, \\\n",
    "           pc_features, pc_features_idx, channel_positions, good_channels = bc.load_ephys_data(ks_dir)\n",
    "\n",
    "#ephys_raw_data and gain_to_uv will be None if no raw_dir given\n",
    "ephys_raw_data, meta_path, gain_to_uV = bc.manage_if_raw_data(raw_dir)\n"
   ]
  },
  {
   "cell_type": "code",
   "execution_count": 6,
   "metadata": {},
   "outputs": [],
   "source": [
    "param = bc.default_parameters(ks_dir, raw_dir, ephys_meta_dir = meta_path)"
   ]
  },
  {
   "cell_type": "code",
   "execution_count": 7,
   "metadata": {},
   "outputs": [],
   "source": [
    "# Extract or load in raw waveforms\n",
    "if raw_dir != None:\n",
    "    raw_waveforms_full, raw_waveforms_peak_channel, SNR = bc.extract_raw_waveforms(\n",
    "                        param,\n",
    "                        spike_templates.squeeze(),\n",
    "                        spike_times_samples.squeeze(),\n",
    "                        param['re_extract_raw'],\n",
    "                        save_path\n",
    "                        )\n",
    "else:\n",
    "    raw_waveforms_full = None\n",
    "    raw_waveforms_peak_channel = None\n",
    "    SNR = None\n",
    "    param['extract_raw_waveforms'] = False #No waveforms to extract!"
   ]
  },
  {
   "cell_type": "code",
   "execution_count": 8,
   "metadata": {},
   "outputs": [],
   "source": [
    "# pre-load peak channels\n",
    "max_channels = bc.get_waveform_max_channel(template_waveforms)\n",
    "\n",
    "# Remove duplicate spikes\n",
    "(non_empty_units,\n",
    " duplicate_spike_idx,\n",
    " spike_times_samples,\n",
    " spike_templates,\n",
    " template_amplitudes,\n",
    " pc_features,\n",
    " raw_waveforms_full,\n",
    " raw_waveforms_peak_channel,\n",
    " signal_to_noise_ratio,\n",
    " max_channels) = \\\n",
    "    bc.remove_duplicate_spikes(spike_times_samples,\n",
    "                               spike_templates,\n",
    "                               template_amplitudes,\n",
    "                               max_channels,\n",
    "                               save_path,\n",
    "                               param,\n",
    "                               pc_features = pc_features,\n",
    "                               raw_waveforms_full = raw_waveforms_full,\n",
    "                               raw_waveforms_peak_channel = raw_waveforms_peak_channel, \n",
    "                               signal_to_noise_ratio = SNR)\n",
    "\n",
    "\n",
    "# Divide recording into time chunks\n",
    "spike_times_seconds = spike_times_samples / param['ephys_sample_rate']\n",
    "if param['compute_time_chunks']:\n",
    "    time_chunks = np.arange(np.min(spike_times_seconds), np.max(spike_times_seconds), param['delta_time_chunk'])\n",
    "else:\n",
    "    time_chunks = np.array((np.min(spike_times_seconds), np.max(spike_times_seconds)))\n",
    "\n",
    "# Should be got as part of removing duplicate spikes!!! \n",
    "unique_templates = np.unique(spike_templates) "
   ]
  },
  {
   "cell_type": "code",
   "execution_count": 9,
   "metadata": {},
   "outputs": [
    {
     "data": {
      "application/vnd.jupyter.widget-view+json": {
       "model_id": "57bee1ab90c94f00a24b59dad2bcf939",
       "version_major": 2,
       "version_minor": 0
      },
      "text/plain": [
       "Computing BombCell quality metrics:   0%|          | 0/15 units"
      ]
     },
     "metadata": {},
     "output_type": "display_data"
    },
    {
     "name": "stderr",
     "output_type": "stream",
     "text": [
      "c:\\Users\\Experiment\\Data\\bombcell\\pyBombCell\\bombcell\\quality_metrics.py:360: OptimizeWarning: Covariance of the parameters could not be estimated\n",
      "  fit_params = curve_fit(gaussian_cut, amp_bin_gaussian, spike_counts_per_amp_bin_gaussian, p0 = p0, ftol = 1e-3, xtol = 1e-3, maxfev = 10000)[0]\n",
      "c:\\Users\\Experiment\\Data\\bombcell\\pyBombCell\\bombcell\\quality_metrics.py:654: RuntimeWarning: invalid value encountered in divide\n",
      "  spike_depth_in_channels = np.sum(pc_channel_pos_weights[np.newaxis, :] * pc_features_pc1 ** 2, axis = 1) / np.nansum(pc_features_pc1 ** 2, axis = 1)\n",
      "c:\\Users\\Experiment\\AppData\\Local\\Programs\\Python\\Python311\\Lib\\site-packages\\numpy\\lib\\nanfunctions.py:1215: RuntimeWarning: Mean of empty slice\n",
      "  return np.nanmean(a, axis, out=out, keepdims=keepdims)\n",
      "c:\\Users\\Experiment\\Data\\bombcell\\pyBombCell\\bombcell\\quality_metrics.py:334: RuntimeWarning: divide by zero encountered in scalar divide\n",
      "  p_missing = ((surrogate_area - np.sum(spike_counts_per_amp_bin) * bin_step) / surrogate_area) * 100\n"
     ]
    }
   ],
   "source": [
    "# Initialize quality metrics dictionary\n",
    "n_units = unique_templates.size\n",
    "quality_metrics = bc.create_quality_metrics_dict(n_units, snr = SNR)\n",
    "quality_metrics['max_channels'] = max_channels\n",
    "param['use_hill_method'] = True # use the old method for RPVs\n",
    "param['compute_time_chunks'] = False\n",
    "\n",
    "# Complete with remaining quality metrics\n",
    "quality_metrics, times = bc.get_all_quality_metrics(unique_templates,\n",
    "                                                    spike_times_seconds,\n",
    "                                                    spike_templates,\n",
    "                                                    template_amplitudes,\n",
    "                                                    time_chunks,\n",
    "                                                    pc_features,\n",
    "                                                    pc_features_idx,\n",
    "                                                    quality_metrics,\n",
    "                                                    raw_waveforms_full,\n",
    "                                                    channel_positions,\n",
    "                                                    template_waveforms, param)"
   ]
  },
  {
   "cell_type": "code",
   "execution_count": 10,
   "metadata": {},
   "outputs": [
    {
     "data": {
      "text/html": [
       "<div>\n",
       "<style scoped>\n",
       "    .dataframe tbody tr th:only-of-type {\n",
       "        vertical-align: middle;\n",
       "    }\n",
       "\n",
       "    .dataframe tbody tr th {\n",
       "        vertical-align: top;\n",
       "    }\n",
       "\n",
       "    .dataframe thead th {\n",
       "        text-align: right;\n",
       "    }\n",
       "</style>\n",
       "<table border=\"1\" class=\"dataframe\">\n",
       "  <thead>\n",
       "    <tr style=\"text-align: right;\">\n",
       "      <th></th>\n",
       "      <th>Original ID</th>\n",
       "      <th>NaN result</th>\n",
       "      <th>Peaks</th>\n",
       "      <th>Troughs</th>\n",
       "      <th>Waveform Min Length</th>\n",
       "      <th>Waveform Max Length</th>\n",
       "      <th>Baseline</th>\n",
       "      <th>Spatial Decay</th>\n",
       "      <th>Min Spikes</th>\n",
       "      <th>Missing Spikes</th>\n",
       "      <th>RPVs</th>\n",
       "      <th>Presence Ratio</th>\n",
       "      <th>Not Somatic</th>\n",
       "      <th>Good Unit</th>\n",
       "    </tr>\n",
       "  </thead>\n",
       "  <tbody>\n",
       "    <tr>\n",
       "      <th>0</th>\n",
       "      <td>0</td>\n",
       "      <td>False</td>\n",
       "      <td>False</td>\n",
       "      <td>False</td>\n",
       "      <td>False</td>\n",
       "      <td>False</td>\n",
       "      <td>False</td>\n",
       "      <td>False</td>\n",
       "      <td>False</td>\n",
       "      <td>True</td>\n",
       "      <td>True</td>\n",
       "      <td>False</td>\n",
       "      <td>True</td>\n",
       "      <td>MUA</td>\n",
       "    </tr>\n",
       "    <tr>\n",
       "      <th>1</th>\n",
       "      <td>1</td>\n",
       "      <td>False</td>\n",
       "      <td>False</td>\n",
       "      <td>True</td>\n",
       "      <td>False</td>\n",
       "      <td>False</td>\n",
       "      <td>True</td>\n",
       "      <td>True</td>\n",
       "      <td>False</td>\n",
       "      <td>False</td>\n",
       "      <td>True</td>\n",
       "      <td>False</td>\n",
       "      <td>False</td>\n",
       "      <td>NOISE</td>\n",
       "    </tr>\n",
       "    <tr>\n",
       "      <th>2</th>\n",
       "      <td>2</td>\n",
       "      <td>False</td>\n",
       "      <td>False</td>\n",
       "      <td>False</td>\n",
       "      <td>False</td>\n",
       "      <td>False</td>\n",
       "      <td>False</td>\n",
       "      <td>False</td>\n",
       "      <td>False</td>\n",
       "      <td>False</td>\n",
       "      <td>True</td>\n",
       "      <td>False</td>\n",
       "      <td>True</td>\n",
       "      <td>MUA</td>\n",
       "    </tr>\n",
       "    <tr>\n",
       "      <th>3</th>\n",
       "      <td>3</td>\n",
       "      <td>False</td>\n",
       "      <td>False</td>\n",
       "      <td>False</td>\n",
       "      <td>False</td>\n",
       "      <td>False</td>\n",
       "      <td>False</td>\n",
       "      <td>False</td>\n",
       "      <td>True</td>\n",
       "      <td>False</td>\n",
       "      <td>False</td>\n",
       "      <td>False</td>\n",
       "      <td>True</td>\n",
       "      <td>MUA</td>\n",
       "    </tr>\n",
       "    <tr>\n",
       "      <th>4</th>\n",
       "      <td>4</td>\n",
       "      <td>False</td>\n",
       "      <td>False</td>\n",
       "      <td>False</td>\n",
       "      <td>False</td>\n",
       "      <td>False</td>\n",
       "      <td>False</td>\n",
       "      <td>False</td>\n",
       "      <td>False</td>\n",
       "      <td>False</td>\n",
       "      <td>True</td>\n",
       "      <td>False</td>\n",
       "      <td>True</td>\n",
       "      <td>MUA</td>\n",
       "    </tr>\n",
       "  </tbody>\n",
       "</table>\n",
       "</div>"
      ],
      "text/plain": [
       "  Original ID NaN result  Peaks Troughs Waveform Min Length  \\\n",
       "0           0      False  False   False               False   \n",
       "1           1      False  False    True               False   \n",
       "2           2      False  False   False               False   \n",
       "3           3      False  False   False               False   \n",
       "4           4      False  False   False               False   \n",
       "\n",
       "  Waveform Max Length Baseline Spatial Decay Min Spikes Missing Spikes   RPVs  \\\n",
       "0               False    False         False      False           True   True   \n",
       "1               False     True          True      False          False   True   \n",
       "2               False    False         False      False          False   True   \n",
       "3               False    False         False       True          False  False   \n",
       "4               False    False         False      False          False   True   \n",
       "\n",
       "  Presence Ratio Not Somatic Good Unit  \n",
       "0          False        True       MUA  \n",
       "1          False       False     NOISE  \n",
       "2          False        True       MUA  \n",
       "3          False        True       MUA  \n",
       "4          False        True       MUA  "
      ]
     },
     "execution_count": 10,
     "metadata": {},
     "output_type": "execute_result"
    }
   ],
   "source": [
    "unit_type, unit_type_string = bc.get_quality_unit_type(param, quality_metrics)\n",
    "\n",
    "qm_table = bc.make_qm_table(quality_metrics, param, unique_templates, unit_type_string)\n",
    "qm_table.head()"
   ]
  },
  {
   "cell_type": "markdown",
   "metadata": {},
   "source": [
    "To save results as a parquet either PyArrow or FastParquet needs to be installed"
   ]
  },
  {
   "cell_type": "code",
   "execution_count": 11,
   "metadata": {},
   "outputs": [],
   "source": [
    "bc.save_results(quality_metrics, unit_type_string, unique_templates, param, raw_waveforms_full, raw_waveforms_peak_channel, save_path)"
   ]
  }
 ],
 "metadata": {
  "kernelspec": {
   "display_name": "Python 3",
   "language": "python",
   "name": "python3"
  },
  "language_info": {
   "codemirror_mode": {
    "name": "ipython",
    "version": 3
   },
   "file_extension": ".py",
   "mimetype": "text/x-python",
   "name": "python",
   "nbconvert_exporter": "python",
   "pygments_lexer": "ipython3",
   "version": "3.11.4"
  }
 },
 "nbformat": 4,
 "nbformat_minor": 2
}
