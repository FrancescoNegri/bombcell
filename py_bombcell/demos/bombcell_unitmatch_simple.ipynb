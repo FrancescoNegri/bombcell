{
 "cells": [
  {
   "cell_type": "markdown",
   "metadata": {},
   "source": [
    "# BombCell with UnitMatch Parameters\n",
    "\n",
    "This notebook demonstrates how to run BombCell with parameters optimized for UnitMatch.\n",
    "\n",
    "**Key differences from standard BombCell:**\n",
    "- Extracts 1000 raw spikes per unit (instead of 100)\n",
    "- Saves waveforms in UnitMatch format for cross-validation\n",
    "- Disables waveform detrending\n",
    "- Ensures data decompression for raw access"
   ]
  },
  {
   "cell_type": "code",
   "execution_count": 1,
   "metadata": {},
   "outputs": [
    {
     "name": "stdout",
     "output_type": "stream",
     "text": [
      "✅ ipywidgets available - interactive GUI ready\n",
      "✅ BombCell imported successfully\n"
     ]
    }
   ],
   "source": [
    "import numpy as np\n",
    "import pandas as pd\n",
    "import matplotlib.pyplot as plt\n",
    "from pathlib import Path\n",
    "import warnings\n",
    "warnings.filterwarnings('ignore')\n",
    "\n",
    "# Import BombCell\n",
    "import bombcell as bc\n",
    "\n",
    "print(\"✅ BombCell imported successfully\")"
   ]
  },
  {
   "cell_type": "markdown",
   "metadata": {},
   "source": [
    "## Set Your Data Paths\n",
    "\n",
    "Update these paths to point to your actual data:"
   ]
  },
  {
   "cell_type": "code",
   "execution_count": null,
   "metadata": {},
   "outputs": [],
   "source": [
    "# Set your data paths here\n",
    "ks_dir = \"/path/to/your/kilosort/output\"  # Path to Kilosort output\n",
    "raw_file = \"/path/to/your/raw/data.bin\"   # Path to raw .bin file (optional)\n",
    "meta_file = \"/path/to/your/meta/file.meta\" # Path to .meta file (optional)\n",
    "kilosort_version = 4  # Adjust based on your Kilosort version (2, 3, or 4)\n",
    "\n",
    "# Output directory for results\n",
    "save_path = Path(ks_dir) / \"qMetrics\"\n",
    "\n",
    "print(f\"📁 Kilosort directory: {ks_dir}\")\n",
    "print(f\"📁 Results will be saved to: {save_path}\")"
   ]
  },
  {
   "cell_type": "markdown",
   "metadata": {},
   "source": [
    "## Run BombCell with UnitMatch Parameters"
   ]
  },
  {
   "cell_type": "code",
   "execution_count": null,
   "metadata": {},
   "outputs": [],
   "source": [
    "# Run BombCell with UnitMatch parameters\n",
    "print(\"🚀 Running BombCell with UnitMatch parameters...\")\n",
    "print(\"   This will extract 1000 raw spikes per unit and save in UnitMatch format\")\n",
    "\n",
    "quality_metrics, param, unit_type, unit_type_string = bc.run_bombcell_unit_match(\n",
    "    ks_dir=ks_dir,\n",
    "    save_path=save_path,\n",
    "    raw_file=raw_file,\n",
    "    meta_file=meta_file,\n",
    "    kilosort_version=kilosort_version\n",
    ")\n",
    "\n",
    "print(\"✅ BombCell analysis complete!\")"
   ]
  },
  {
   "cell_type": "markdown",
   "metadata": {},
   "source": [
    "## View Results"
   ]
  },
  {
   "cell_type": "code",
   "execution_count": null,
   "metadata": {},
   "outputs": [],
   "source": [
    "# Display results summary\n",
    "print(f\"📊 BombCell Results:\")\n",
    "print(f\"   Total units analyzed: {len(unit_type)}\")\n",
    "print(f\"   Good units: {np.sum(unit_type_string == 'GOOD')}\")\n",
    "print(f\"   MUA units: {np.sum(unit_type_string == 'MUA')}\")\n",
    "print(f\"   Noise units: {np.sum(unit_type_string == 'NOISE')}\")\n",
    "print(f\"   Non-somatic units: {np.sum(unit_type_string == 'NON-SOMA')}\")\n",
    "\n",
    "# Check that UnitMatch waveforms were saved\n",
    "raw_waveforms_dir = save_path / \"RawWaveforms\"\n",
    "if raw_waveforms_dir.exists():\n",
    "    waveform_files = list(raw_waveforms_dir.glob(\"Unit*_RawSpikes.npy\"))\n",
    "    print(f\"   ✅ Saved {len(waveform_files)} UnitMatch waveform files\")\n",
    "    print(f\"   📁 UnitMatch waveforms directory: {raw_waveforms_dir}\")\n",
    "else:\n",
    "    print(f\"   ⚠️  No UnitMatch waveforms found. Check that raw data file is accessible.\")"
   ]
  },
  {
   "cell_type": "code",
   "execution_count": null,
   "metadata": {},
   "outputs": [],
   "source": [
    "# Convert results to DataFrame for easier viewing\n",
    "results_df = pd.DataFrame(quality_metrics)\n",
    "results_df['unit_type'] = unit_type_string\n",
    "results_df['cluster_id'] = results_df['phy_clusterID'].astype(int)\n",
    "\n",
    "# Display first few rows\n",
    "print(\"📋 Quality Metrics Summary:\")\n",
    "display(results_df.head())\n",
    "\n",
    "# Show unit type distribution\n",
    "print(\"\\n📊 Unit Type Distribution:\")\n",
    "print(results_df['unit_type'].value_counts())"
   ]
  },
  {
   "cell_type": "markdown",
   "metadata": {},
   "source": [
    "## Key UnitMatch Parameters Used\n",
    "\n",
    "The following parameters were automatically set for UnitMatch compatibility:"
   ]
  },
  {
   "cell_type": "code",
   "execution_count": null,
   "metadata": {},
   "outputs": [],
   "source": [
    "print(\"🔧 UnitMatch Parameters Used:\")\n",
    "print(f\"   detrendWaveform: {param['detrendWaveform']} (disabled for UnitMatch)\")\n",
    "print(f\"   nRawSpikesToExtract: {param['nRawSpikesToExtract']} (more spikes for better matching)\")\n",
    "print(f\"   saveMultipleRaw: {param['saveMultipleRaw']} (saves cross-validation waveforms)\")\n",
    "print(f\"   decompress_data: {param['decompress_data']} (ensures raw data access)\")"
   ]
  },
  {
   "cell_type": "markdown",
   "metadata": {},
   "source": [
    "## Files Generated\n",
    "\n",
    "This analysis creates the following files that are compatible with UnitMatch:\n",
    "\n",
    "1. **Standard BombCell outputs:**\n",
    "   - Quality metrics CSV and parquet files\n",
    "   - Unit classification results\n",
    "   - Summary plots\n",
    "\n",
    "2. **UnitMatch-specific outputs:**\n",
    "   - `RawWaveforms/Unit{ID}_RawSpikes.npy`: Cross-validation waveforms for each unit\n",
    "   - Raw waveform data with proper formatting for UnitMatch analysis\n",
    "\n"
   ]
  }
 ],
 "metadata": {
  "kernelspec": {
   "display_name": "bombcell_test",
   "language": "python",
   "name": "python3"
  },
  "language_info": {
   "codemirror_mode": {
    "name": "ipython",
    "version": 3
   },
   "file_extension": ".py",
   "mimetype": "text/x-python",
   "name": "python",
   "nbconvert_exporter": "python",
   "pygments_lexer": "ipython3",
   "version": "3.11.13"
  }
 },
 "nbformat": 4,
 "nbformat_minor": 4
}
